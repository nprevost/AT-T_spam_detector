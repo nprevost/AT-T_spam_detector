{
 "cells": [
  {
   "cell_type": "code",
   "execution_count": 260,
   "metadata": {},
   "outputs": [],
   "source": [
    "import pandas as pd\n",
    "import numpy as np\n",
    "\n",
    "import plotly.express as px\n",
    "import matplotlib.pyplot as plt\n",
    "\n",
    "import en_core_web_md\n",
    "nlp = en_core_web_md.load()\n",
    "\n",
    "from spacy.lang.en.stop_words import STOP_WORDS\n",
    "\n",
    "from sklearn.model_selection import train_test_split\n",
    "from sklearn.metrics import confusion_matrix,ConfusionMatrixDisplay,classification_report\n",
    "\n",
    "import tensorflow as tf\n",
    "\n",
    "from tensorflow.keras.models import Sequential\n",
    "from tensorflow.keras.layers import Input, SimpleRNN, Dense, Embedding, GlobalAveragePooling1D, Bidirectional, Dropout\n",
    "\n",
    "from tensorflow.keras.optimizers import Adam\n",
    "from tensorflow.keras.optimizers.schedules import ExponentialDecay\n",
    "from tensorflow.keras.callbacks import EarlyStopping\n",
    "\n",
    "import tensorflow_hub as hub"
   ]
  },
  {
   "cell_type": "code",
   "execution_count": 261,
   "metadata": {},
   "outputs": [
    {
     "data": {
      "text/html": [
       "<div>\n",
       "<style scoped>\n",
       "    .dataframe tbody tr th:only-of-type {\n",
       "        vertical-align: middle;\n",
       "    }\n",
       "\n",
       "    .dataframe tbody tr th {\n",
       "        vertical-align: top;\n",
       "    }\n",
       "\n",
       "    .dataframe thead th {\n",
       "        text-align: right;\n",
       "    }\n",
       "</style>\n",
       "<table border=\"1\" class=\"dataframe\">\n",
       "  <thead>\n",
       "    <tr style=\"text-align: right;\">\n",
       "      <th></th>\n",
       "      <th>v1</th>\n",
       "      <th>v2</th>\n",
       "      <th>Unnamed: 2</th>\n",
       "      <th>Unnamed: 3</th>\n",
       "      <th>Unnamed: 4</th>\n",
       "    </tr>\n",
       "  </thead>\n",
       "  <tbody>\n",
       "    <tr>\n",
       "      <th>0</th>\n",
       "      <td>ham</td>\n",
       "      <td>Go until jurong point, crazy.. Available only ...</td>\n",
       "      <td>NaN</td>\n",
       "      <td>NaN</td>\n",
       "      <td>NaN</td>\n",
       "    </tr>\n",
       "    <tr>\n",
       "      <th>1</th>\n",
       "      <td>ham</td>\n",
       "      <td>Ok lar... Joking wif u oni...</td>\n",
       "      <td>NaN</td>\n",
       "      <td>NaN</td>\n",
       "      <td>NaN</td>\n",
       "    </tr>\n",
       "    <tr>\n",
       "      <th>2</th>\n",
       "      <td>spam</td>\n",
       "      <td>Free entry in 2 a wkly comp to win FA Cup fina...</td>\n",
       "      <td>NaN</td>\n",
       "      <td>NaN</td>\n",
       "      <td>NaN</td>\n",
       "    </tr>\n",
       "    <tr>\n",
       "      <th>3</th>\n",
       "      <td>ham</td>\n",
       "      <td>U dun say so early hor... U c already then say...</td>\n",
       "      <td>NaN</td>\n",
       "      <td>NaN</td>\n",
       "      <td>NaN</td>\n",
       "    </tr>\n",
       "    <tr>\n",
       "      <th>4</th>\n",
       "      <td>ham</td>\n",
       "      <td>Nah I don't think he goes to usf, he lives aro...</td>\n",
       "      <td>NaN</td>\n",
       "      <td>NaN</td>\n",
       "      <td>NaN</td>\n",
       "    </tr>\n",
       "  </tbody>\n",
       "</table>\n",
       "</div>"
      ],
      "text/plain": [
       "     v1                                                 v2 Unnamed: 2  \\\n",
       "0   ham  Go until jurong point, crazy.. Available only ...        NaN   \n",
       "1   ham                      Ok lar... Joking wif u oni...        NaN   \n",
       "2  spam  Free entry in 2 a wkly comp to win FA Cup fina...        NaN   \n",
       "3   ham  U dun say so early hor... U c already then say...        NaN   \n",
       "4   ham  Nah I don't think he goes to usf, he lives aro...        NaN   \n",
       "\n",
       "  Unnamed: 3 Unnamed: 4  \n",
       "0        NaN        NaN  \n",
       "1        NaN        NaN  \n",
       "2        NaN        NaN  \n",
       "3        NaN        NaN  \n",
       "4        NaN        NaN  "
      ]
     },
     "metadata": {},
     "output_type": "display_data"
    },
    {
     "data": {
      "text/html": [
       "<div>\n",
       "<style scoped>\n",
       "    .dataframe tbody tr th:only-of-type {\n",
       "        vertical-align: middle;\n",
       "    }\n",
       "\n",
       "    .dataframe tbody tr th {\n",
       "        vertical-align: top;\n",
       "    }\n",
       "\n",
       "    .dataframe thead th {\n",
       "        text-align: right;\n",
       "    }\n",
       "</style>\n",
       "<table border=\"1\" class=\"dataframe\">\n",
       "  <thead>\n",
       "    <tr style=\"text-align: right;\">\n",
       "      <th></th>\n",
       "      <th>v1</th>\n",
       "      <th>v2</th>\n",
       "      <th>Unnamed: 2</th>\n",
       "      <th>Unnamed: 3</th>\n",
       "      <th>Unnamed: 4</th>\n",
       "    </tr>\n",
       "  </thead>\n",
       "  <tbody>\n",
       "    <tr>\n",
       "      <th>count</th>\n",
       "      <td>5572</td>\n",
       "      <td>5572</td>\n",
       "      <td>50</td>\n",
       "      <td>12</td>\n",
       "      <td>6</td>\n",
       "    </tr>\n",
       "    <tr>\n",
       "      <th>unique</th>\n",
       "      <td>2</td>\n",
       "      <td>5169</td>\n",
       "      <td>43</td>\n",
       "      <td>10</td>\n",
       "      <td>5</td>\n",
       "    </tr>\n",
       "    <tr>\n",
       "      <th>top</th>\n",
       "      <td>ham</td>\n",
       "      <td>Sorry, I'll call later</td>\n",
       "      <td>bt not his girlfrnd... G o o d n i g h t . . .@\"</td>\n",
       "      <td>MK17 92H. 450Ppw 16\"</td>\n",
       "      <td>GNT:-)\"</td>\n",
       "    </tr>\n",
       "    <tr>\n",
       "      <th>freq</th>\n",
       "      <td>4825</td>\n",
       "      <td>30</td>\n",
       "      <td>3</td>\n",
       "      <td>2</td>\n",
       "      <td>2</td>\n",
       "    </tr>\n",
       "  </tbody>\n",
       "</table>\n",
       "</div>"
      ],
      "text/plain": [
       "          v1                      v2  \\\n",
       "count   5572                    5572   \n",
       "unique     2                    5169   \n",
       "top      ham  Sorry, I'll call later   \n",
       "freq    4825                      30   \n",
       "\n",
       "                                               Unnamed: 2  \\\n",
       "count                                                  50   \n",
       "unique                                                 43   \n",
       "top      bt not his girlfrnd... G o o d n i g h t . . .@\"   \n",
       "freq                                                    3   \n",
       "\n",
       "                   Unnamed: 3 Unnamed: 4  \n",
       "count                      12          6  \n",
       "unique                     10          5  \n",
       "top      MK17 92H. 450Ppw 16\"    GNT:-)\"  \n",
       "freq                        2          2  "
      ]
     },
     "execution_count": 261,
     "metadata": {},
     "output_type": "execute_result"
    }
   ],
   "source": [
    "df = pd.read_csv('data/spam.csv',encoding='UTF-8')\n",
    "display(df.head())\n",
    "\n",
    "df.describe()"
   ]
  },
  {
   "cell_type": "markdown",
   "metadata": {},
   "source": [
    "Apparition de la phrase ```Sorry, I'll call later``` 30 fois"
   ]
  },
  {
   "cell_type": "code",
   "execution_count": 262,
   "metadata": {},
   "outputs": [
    {
     "data": {
      "text/html": [
       "<div>\n",
       "<style scoped>\n",
       "    .dataframe tbody tr th:only-of-type {\n",
       "        vertical-align: middle;\n",
       "    }\n",
       "\n",
       "    .dataframe tbody tr th {\n",
       "        vertical-align: top;\n",
       "    }\n",
       "\n",
       "    .dataframe thead th {\n",
       "        text-align: right;\n",
       "    }\n",
       "</style>\n",
       "<table border=\"1\" class=\"dataframe\">\n",
       "  <thead>\n",
       "    <tr style=\"text-align: right;\">\n",
       "      <th></th>\n",
       "      <th>v1</th>\n",
       "      <th>v2</th>\n",
       "      <th>Unnamed: 2</th>\n",
       "      <th>Unnamed: 3</th>\n",
       "      <th>Unnamed: 4</th>\n",
       "    </tr>\n",
       "  </thead>\n",
       "  <tbody>\n",
       "    <tr>\n",
       "      <th>0</th>\n",
       "      <td>ham</td>\n",
       "      <td>Go until jurong point, crazy.. Available only ...</td>\n",
       "      <td>NaN</td>\n",
       "      <td>NaN</td>\n",
       "      <td>NaN</td>\n",
       "    </tr>\n",
       "    <tr>\n",
       "      <th>1</th>\n",
       "      <td>ham</td>\n",
       "      <td>Ok lar... Joking wif u oni...</td>\n",
       "      <td>NaN</td>\n",
       "      <td>NaN</td>\n",
       "      <td>NaN</td>\n",
       "    </tr>\n",
       "    <tr>\n",
       "      <th>2</th>\n",
       "      <td>spam</td>\n",
       "      <td>Free entry in 2 a wkly comp to win FA Cup fina...</td>\n",
       "      <td>NaN</td>\n",
       "      <td>NaN</td>\n",
       "      <td>NaN</td>\n",
       "    </tr>\n",
       "    <tr>\n",
       "      <th>3</th>\n",
       "      <td>ham</td>\n",
       "      <td>U dun say so early hor... U c already then say...</td>\n",
       "      <td>NaN</td>\n",
       "      <td>NaN</td>\n",
       "      <td>NaN</td>\n",
       "    </tr>\n",
       "    <tr>\n",
       "      <th>4</th>\n",
       "      <td>ham</td>\n",
       "      <td>Nah I don't think he goes to usf, he lives aro...</td>\n",
       "      <td>NaN</td>\n",
       "      <td>NaN</td>\n",
       "      <td>NaN</td>\n",
       "    </tr>\n",
       "    <tr>\n",
       "      <th>...</th>\n",
       "      <td>...</td>\n",
       "      <td>...</td>\n",
       "      <td>...</td>\n",
       "      <td>...</td>\n",
       "      <td>...</td>\n",
       "    </tr>\n",
       "    <tr>\n",
       "      <th>5567</th>\n",
       "      <td>spam</td>\n",
       "      <td>This is the 2nd time we have tried 2 contact u...</td>\n",
       "      <td>NaN</td>\n",
       "      <td>NaN</td>\n",
       "      <td>NaN</td>\n",
       "    </tr>\n",
       "    <tr>\n",
       "      <th>5568</th>\n",
       "      <td>ham</td>\n",
       "      <td>Will Ì_ b going to esplanade fr home?</td>\n",
       "      <td>NaN</td>\n",
       "      <td>NaN</td>\n",
       "      <td>NaN</td>\n",
       "    </tr>\n",
       "    <tr>\n",
       "      <th>5569</th>\n",
       "      <td>ham</td>\n",
       "      <td>Pity, * was in mood for that. So...any other s...</td>\n",
       "      <td>NaN</td>\n",
       "      <td>NaN</td>\n",
       "      <td>NaN</td>\n",
       "    </tr>\n",
       "    <tr>\n",
       "      <th>5570</th>\n",
       "      <td>ham</td>\n",
       "      <td>The guy did some bitching but I acted like i'd...</td>\n",
       "      <td>NaN</td>\n",
       "      <td>NaN</td>\n",
       "      <td>NaN</td>\n",
       "    </tr>\n",
       "    <tr>\n",
       "      <th>5571</th>\n",
       "      <td>ham</td>\n",
       "      <td>Rofl. Its true to its name</td>\n",
       "      <td>NaN</td>\n",
       "      <td>NaN</td>\n",
       "      <td>NaN</td>\n",
       "    </tr>\n",
       "  </tbody>\n",
       "</table>\n",
       "<p>5572 rows × 5 columns</p>\n",
       "</div>"
      ],
      "text/plain": [
       "        v1                                                 v2 Unnamed: 2  \\\n",
       "0      ham  Go until jurong point, crazy.. Available only ...        NaN   \n",
       "1      ham                      Ok lar... Joking wif u oni...        NaN   \n",
       "2     spam  Free entry in 2 a wkly comp to win FA Cup fina...        NaN   \n",
       "3      ham  U dun say so early hor... U c already then say...        NaN   \n",
       "4      ham  Nah I don't think he goes to usf, he lives aro...        NaN   \n",
       "...    ...                                                ...        ...   \n",
       "5567  spam  This is the 2nd time we have tried 2 contact u...        NaN   \n",
       "5568   ham              Will Ì_ b going to esplanade fr home?        NaN   \n",
       "5569   ham  Pity, * was in mood for that. So...any other s...        NaN   \n",
       "5570   ham  The guy did some bitching but I acted like i'd...        NaN   \n",
       "5571   ham                         Rofl. Its true to its name        NaN   \n",
       "\n",
       "     Unnamed: 3 Unnamed: 4  \n",
       "0           NaN        NaN  \n",
       "1           NaN        NaN  \n",
       "2           NaN        NaN  \n",
       "3           NaN        NaN  \n",
       "4           NaN        NaN  \n",
       "...         ...        ...  \n",
       "5567        NaN        NaN  \n",
       "5568        NaN        NaN  \n",
       "5569        NaN        NaN  \n",
       "5570        NaN        NaN  \n",
       "5571        NaN        NaN  \n",
       "\n",
       "[5572 rows x 5 columns]"
      ]
     },
     "execution_count": 262,
     "metadata": {},
     "output_type": "execute_result"
    }
   ],
   "source": [
    "df"
   ]
  },
  {
   "cell_type": "code",
   "execution_count": 263,
   "metadata": {},
   "outputs": [
    {
     "data": {
      "text/html": [
       "<div>\n",
       "<style scoped>\n",
       "    .dataframe tbody tr th:only-of-type {\n",
       "        vertical-align: middle;\n",
       "    }\n",
       "\n",
       "    .dataframe tbody tr th {\n",
       "        vertical-align: top;\n",
       "    }\n",
       "\n",
       "    .dataframe thead th {\n",
       "        text-align: right;\n",
       "    }\n",
       "</style>\n",
       "<table border=\"1\" class=\"dataframe\">\n",
       "  <thead>\n",
       "    <tr style=\"text-align: right;\">\n",
       "      <th></th>\n",
       "      <th>v1</th>\n",
       "      <th>v2</th>\n",
       "      <th>Unnamed: 2</th>\n",
       "      <th>Unnamed: 3</th>\n",
       "      <th>Unnamed: 4</th>\n",
       "    </tr>\n",
       "  </thead>\n",
       "  <tbody>\n",
       "    <tr>\n",
       "      <th>80</th>\n",
       "      <td>ham</td>\n",
       "      <td>Sorry, I'll call later</td>\n",
       "      <td>NaN</td>\n",
       "      <td>NaN</td>\n",
       "      <td>NaN</td>\n",
       "    </tr>\n",
       "    <tr>\n",
       "      <th>222</th>\n",
       "      <td>ham</td>\n",
       "      <td>Sorry, I'll call later</td>\n",
       "      <td>NaN</td>\n",
       "      <td>NaN</td>\n",
       "      <td>NaN</td>\n",
       "    </tr>\n",
       "    <tr>\n",
       "      <th>338</th>\n",
       "      <td>ham</td>\n",
       "      <td>Sorry, I'll call later</td>\n",
       "      <td>NaN</td>\n",
       "      <td>NaN</td>\n",
       "      <td>NaN</td>\n",
       "    </tr>\n",
       "    <tr>\n",
       "      <th>443</th>\n",
       "      <td>ham</td>\n",
       "      <td>Sorry, I'll call later</td>\n",
       "      <td>NaN</td>\n",
       "      <td>NaN</td>\n",
       "      <td>NaN</td>\n",
       "    </tr>\n",
       "    <tr>\n",
       "      <th>701</th>\n",
       "      <td>ham</td>\n",
       "      <td>Sorry, I'll call later</td>\n",
       "      <td>NaN</td>\n",
       "      <td>NaN</td>\n",
       "      <td>NaN</td>\n",
       "    </tr>\n",
       "    <tr>\n",
       "      <th>767</th>\n",
       "      <td>ham</td>\n",
       "      <td>Sorry, I'll call later</td>\n",
       "      <td>NaN</td>\n",
       "      <td>NaN</td>\n",
       "      <td>NaN</td>\n",
       "    </tr>\n",
       "    <tr>\n",
       "      <th>1131</th>\n",
       "      <td>ham</td>\n",
       "      <td>Sorry, I'll call later</td>\n",
       "      <td>NaN</td>\n",
       "      <td>NaN</td>\n",
       "      <td>NaN</td>\n",
       "    </tr>\n",
       "    <tr>\n",
       "      <th>1151</th>\n",
       "      <td>ham</td>\n",
       "      <td>Sorry, I'll call later</td>\n",
       "      <td>NaN</td>\n",
       "      <td>NaN</td>\n",
       "      <td>NaN</td>\n",
       "    </tr>\n",
       "    <tr>\n",
       "      <th>1484</th>\n",
       "      <td>ham</td>\n",
       "      <td>Sorry, I'll call later</td>\n",
       "      <td>NaN</td>\n",
       "      <td>NaN</td>\n",
       "      <td>NaN</td>\n",
       "    </tr>\n",
       "    <tr>\n",
       "      <th>1584</th>\n",
       "      <td>ham</td>\n",
       "      <td>Sorry, I'll call later</td>\n",
       "      <td>NaN</td>\n",
       "      <td>NaN</td>\n",
       "      <td>NaN</td>\n",
       "    </tr>\n",
       "    <tr>\n",
       "      <th>1901</th>\n",
       "      <td>ham</td>\n",
       "      <td>Sorry, I'll call later</td>\n",
       "      <td>NaN</td>\n",
       "      <td>NaN</td>\n",
       "      <td>NaN</td>\n",
       "    </tr>\n",
       "    <tr>\n",
       "      <th>1980</th>\n",
       "      <td>ham</td>\n",
       "      <td>Sorry, I'll call later</td>\n",
       "      <td>NaN</td>\n",
       "      <td>NaN</td>\n",
       "      <td>NaN</td>\n",
       "    </tr>\n",
       "    <tr>\n",
       "      <th>1988</th>\n",
       "      <td>ham</td>\n",
       "      <td>Sorry, I'll call later</td>\n",
       "      <td>NaN</td>\n",
       "      <td>NaN</td>\n",
       "      <td>NaN</td>\n",
       "    </tr>\n",
       "    <tr>\n",
       "      <th>2384</th>\n",
       "      <td>ham</td>\n",
       "      <td>Sorry, I'll call later</td>\n",
       "      <td>NaN</td>\n",
       "      <td>NaN</td>\n",
       "      <td>NaN</td>\n",
       "    </tr>\n",
       "    <tr>\n",
       "      <th>2446</th>\n",
       "      <td>ham</td>\n",
       "      <td>Sorry, I'll call later</td>\n",
       "      <td>NaN</td>\n",
       "      <td>NaN</td>\n",
       "      <td>NaN</td>\n",
       "    </tr>\n",
       "    <tr>\n",
       "      <th>2517</th>\n",
       "      <td>ham</td>\n",
       "      <td>Sorry, I'll call later</td>\n",
       "      <td>NaN</td>\n",
       "      <td>NaN</td>\n",
       "      <td>NaN</td>\n",
       "    </tr>\n",
       "    <tr>\n",
       "      <th>2521</th>\n",
       "      <td>ham</td>\n",
       "      <td>Sorry, I'll call later</td>\n",
       "      <td>NaN</td>\n",
       "      <td>NaN</td>\n",
       "      <td>NaN</td>\n",
       "    </tr>\n",
       "    <tr>\n",
       "      <th>2523</th>\n",
       "      <td>ham</td>\n",
       "      <td>Sorry, I'll call later</td>\n",
       "      <td>NaN</td>\n",
       "      <td>NaN</td>\n",
       "      <td>NaN</td>\n",
       "    </tr>\n",
       "    <tr>\n",
       "      <th>2645</th>\n",
       "      <td>ham</td>\n",
       "      <td>Sorry, I'll call later</td>\n",
       "      <td>NaN</td>\n",
       "      <td>NaN</td>\n",
       "      <td>NaN</td>\n",
       "    </tr>\n",
       "    <tr>\n",
       "      <th>3347</th>\n",
       "      <td>ham</td>\n",
       "      <td>Sorry, I'll call later</td>\n",
       "      <td>NaN</td>\n",
       "      <td>NaN</td>\n",
       "      <td>NaN</td>\n",
       "    </tr>\n",
       "    <tr>\n",
       "      <th>3364</th>\n",
       "      <td>ham</td>\n",
       "      <td>Sorry, I'll call later</td>\n",
       "      <td>NaN</td>\n",
       "      <td>NaN</td>\n",
       "      <td>NaN</td>\n",
       "    </tr>\n",
       "    <tr>\n",
       "      <th>3532</th>\n",
       "      <td>ham</td>\n",
       "      <td>Sorry, I'll call later</td>\n",
       "      <td>NaN</td>\n",
       "      <td>NaN</td>\n",
       "      <td>NaN</td>\n",
       "    </tr>\n",
       "    <tr>\n",
       "      <th>3592</th>\n",
       "      <td>ham</td>\n",
       "      <td>Sorry, I'll call later</td>\n",
       "      <td>NaN</td>\n",
       "      <td>NaN</td>\n",
       "      <td>NaN</td>\n",
       "    </tr>\n",
       "    <tr>\n",
       "      <th>4126</th>\n",
       "      <td>ham</td>\n",
       "      <td>Sorry, I'll call later</td>\n",
       "      <td>NaN</td>\n",
       "      <td>NaN</td>\n",
       "      <td>NaN</td>\n",
       "    </tr>\n",
       "    <tr>\n",
       "      <th>4171</th>\n",
       "      <td>ham</td>\n",
       "      <td>Sorry, I'll call later</td>\n",
       "      <td>NaN</td>\n",
       "      <td>NaN</td>\n",
       "      <td>NaN</td>\n",
       "    </tr>\n",
       "    <tr>\n",
       "      <th>4189</th>\n",
       "      <td>ham</td>\n",
       "      <td>Sorry, I'll call later</td>\n",
       "      <td>NaN</td>\n",
       "      <td>NaN</td>\n",
       "      <td>NaN</td>\n",
       "    </tr>\n",
       "    <tr>\n",
       "      <th>5191</th>\n",
       "      <td>ham</td>\n",
       "      <td>Sorry, I'll call later</td>\n",
       "      <td>NaN</td>\n",
       "      <td>NaN</td>\n",
       "      <td>NaN</td>\n",
       "    </tr>\n",
       "    <tr>\n",
       "      <th>5423</th>\n",
       "      <td>ham</td>\n",
       "      <td>Sorry, I'll call later</td>\n",
       "      <td>NaN</td>\n",
       "      <td>NaN</td>\n",
       "      <td>NaN</td>\n",
       "    </tr>\n",
       "    <tr>\n",
       "      <th>5458</th>\n",
       "      <td>ham</td>\n",
       "      <td>Sorry, I'll call later</td>\n",
       "      <td>NaN</td>\n",
       "      <td>NaN</td>\n",
       "      <td>NaN</td>\n",
       "    </tr>\n",
       "    <tr>\n",
       "      <th>5558</th>\n",
       "      <td>ham</td>\n",
       "      <td>Sorry, I'll call later</td>\n",
       "      <td>NaN</td>\n",
       "      <td>NaN</td>\n",
       "      <td>NaN</td>\n",
       "    </tr>\n",
       "  </tbody>\n",
       "</table>\n",
       "</div>"
      ],
      "text/plain": [
       "       v1                      v2 Unnamed: 2 Unnamed: 3 Unnamed: 4\n",
       "80    ham  Sorry, I'll call later        NaN        NaN        NaN\n",
       "222   ham  Sorry, I'll call later        NaN        NaN        NaN\n",
       "338   ham  Sorry, I'll call later        NaN        NaN        NaN\n",
       "443   ham  Sorry, I'll call later        NaN        NaN        NaN\n",
       "701   ham  Sorry, I'll call later        NaN        NaN        NaN\n",
       "767   ham  Sorry, I'll call later        NaN        NaN        NaN\n",
       "1131  ham  Sorry, I'll call later        NaN        NaN        NaN\n",
       "1151  ham  Sorry, I'll call later        NaN        NaN        NaN\n",
       "1484  ham  Sorry, I'll call later        NaN        NaN        NaN\n",
       "1584  ham  Sorry, I'll call later        NaN        NaN        NaN\n",
       "1901  ham  Sorry, I'll call later        NaN        NaN        NaN\n",
       "1980  ham  Sorry, I'll call later        NaN        NaN        NaN\n",
       "1988  ham  Sorry, I'll call later        NaN        NaN        NaN\n",
       "2384  ham  Sorry, I'll call later        NaN        NaN        NaN\n",
       "2446  ham  Sorry, I'll call later        NaN        NaN        NaN\n",
       "2517  ham  Sorry, I'll call later        NaN        NaN        NaN\n",
       "2521  ham  Sorry, I'll call later        NaN        NaN        NaN\n",
       "2523  ham  Sorry, I'll call later        NaN        NaN        NaN\n",
       "2645  ham  Sorry, I'll call later        NaN        NaN        NaN\n",
       "3347  ham  Sorry, I'll call later        NaN        NaN        NaN\n",
       "3364  ham  Sorry, I'll call later        NaN        NaN        NaN\n",
       "3532  ham  Sorry, I'll call later        NaN        NaN        NaN\n",
       "3592  ham  Sorry, I'll call later        NaN        NaN        NaN\n",
       "4126  ham  Sorry, I'll call later        NaN        NaN        NaN\n",
       "4171  ham  Sorry, I'll call later        NaN        NaN        NaN\n",
       "4189  ham  Sorry, I'll call later        NaN        NaN        NaN\n",
       "5191  ham  Sorry, I'll call later        NaN        NaN        NaN\n",
       "5423  ham  Sorry, I'll call later        NaN        NaN        NaN\n",
       "5458  ham  Sorry, I'll call later        NaN        NaN        NaN\n",
       "5558  ham  Sorry, I'll call later        NaN        NaN        NaN"
      ]
     },
     "execution_count": 263,
     "metadata": {},
     "output_type": "execute_result"
    }
   ],
   "source": [
    "# Vérification de la valeur v1 pour la phrase\n",
    "df[df['v2'] == \"Sorry, I'll call later\"]"
   ]
  },
  {
   "cell_type": "code",
   "execution_count": 264,
   "metadata": {},
   "outputs": [],
   "source": [
    "#Suppression de 29 lignes pour pas biaiser les modeles\n",
    "\n",
    "id_drop = df[df['v2'] == \"Sorry, I'll call later\"].index\n",
    "df = df.drop(id_drop[1:], axis=0).reset_index(drop=True)"
   ]
  },
  {
   "cell_type": "markdown",
   "metadata": {},
   "source": [
    "_v1 : ham or spam_"
   ]
  },
  {
   "cell_type": "code",
   "execution_count": 265,
   "metadata": {},
   "outputs": [
    {
     "data": {
      "text/html": [
       "<div>\n",
       "<style scoped>\n",
       "    .dataframe tbody tr th:only-of-type {\n",
       "        vertical-align: middle;\n",
       "    }\n",
       "\n",
       "    .dataframe tbody tr th {\n",
       "        vertical-align: top;\n",
       "    }\n",
       "\n",
       "    .dataframe thead th {\n",
       "        text-align: right;\n",
       "    }\n",
       "</style>\n",
       "<table border=\"1\" class=\"dataframe\">\n",
       "  <thead>\n",
       "    <tr style=\"text-align: right;\">\n",
       "      <th></th>\n",
       "      <th>v1</th>\n",
       "      <th>text</th>\n",
       "    </tr>\n",
       "  </thead>\n",
       "  <tbody>\n",
       "    <tr>\n",
       "      <th>0</th>\n",
       "      <td>ham</td>\n",
       "      <td>Go until jurong point, crazy.. Available only ...</td>\n",
       "    </tr>\n",
       "    <tr>\n",
       "      <th>1</th>\n",
       "      <td>ham</td>\n",
       "      <td>Ok lar... Joking wif u oni...</td>\n",
       "    </tr>\n",
       "    <tr>\n",
       "      <th>2</th>\n",
       "      <td>spam</td>\n",
       "      <td>Free entry in 2 a wkly comp to win FA Cup fina...</td>\n",
       "    </tr>\n",
       "    <tr>\n",
       "      <th>3</th>\n",
       "      <td>ham</td>\n",
       "      <td>U dun say so early hor... U c already then say...</td>\n",
       "    </tr>\n",
       "    <tr>\n",
       "      <th>4</th>\n",
       "      <td>ham</td>\n",
       "      <td>Nah I don't think he goes to usf, he lives aro...</td>\n",
       "    </tr>\n",
       "  </tbody>\n",
       "</table>\n",
       "</div>"
      ],
      "text/plain": [
       "     v1                                               text\n",
       "0   ham  Go until jurong point, crazy.. Available only ...\n",
       "1   ham                      Ok lar... Joking wif u oni...\n",
       "2  spam  Free entry in 2 a wkly comp to win FA Cup fina...\n",
       "3   ham  U dun say so early hor... U c already then say...\n",
       "4   ham  Nah I don't think he goes to usf, he lives aro..."
      ]
     },
     "execution_count": 265,
     "metadata": {},
     "output_type": "execute_result"
    }
   ],
   "source": [
    "#Concatenation des colonnes \"unnamed\" qui correspondent aux messages\n",
    "cols = ['v2', 'Unnamed: 2', 'Unnamed: 3', 'Unnamed: 4']\n",
    "\n",
    "df['text'] = df.apply(lambda row: ' '.join(row[cols].dropna().astype(str)), axis=1)\n",
    "df.drop(cols, axis=1, inplace=True)\n",
    "df.head()"
   ]
  },
  {
   "cell_type": "code",
   "execution_count": 266,
   "metadata": {},
   "outputs": [
    {
     "name": "stdout",
     "output_type": "stream",
     "text": [
      "\n",
      "Missing values:\n",
      "\n",
      "v1      0\n",
      "text    0\n",
      "dtype: int64\n"
     ]
    }
   ],
   "source": [
    "print(\"\\nMissing values:\\n\")\n",
    "print(df.isnull().sum())"
   ]
  },
  {
   "cell_type": "code",
   "execution_count": 267,
   "metadata": {},
   "outputs": [
    {
     "data": {
      "text/html": [
       "<div>\n",
       "<style scoped>\n",
       "    .dataframe tbody tr th:only-of-type {\n",
       "        vertical-align: middle;\n",
       "    }\n",
       "\n",
       "    .dataframe tbody tr th {\n",
       "        vertical-align: top;\n",
       "    }\n",
       "\n",
       "    .dataframe thead th {\n",
       "        text-align: right;\n",
       "    }\n",
       "</style>\n",
       "<table border=\"1\" class=\"dataframe\">\n",
       "  <thead>\n",
       "    <tr style=\"text-align: right;\">\n",
       "      <th></th>\n",
       "      <th>v1</th>\n",
       "      <th>count</th>\n",
       "    </tr>\n",
       "  </thead>\n",
       "  <tbody>\n",
       "    <tr>\n",
       "      <th>0</th>\n",
       "      <td>ham</td>\n",
       "      <td>4796</td>\n",
       "    </tr>\n",
       "    <tr>\n",
       "      <th>1</th>\n",
       "      <td>spam</td>\n",
       "      <td>747</td>\n",
       "    </tr>\n",
       "  </tbody>\n",
       "</table>\n",
       "</div>"
      ],
      "text/plain": [
       "     v1  count\n",
       "0   ham   4796\n",
       "1  spam    747"
      ]
     },
     "execution_count": 267,
     "metadata": {},
     "output_type": "execute_result"
    }
   ],
   "source": [
    "df_sum = df.groupby([\"v1\"])['v1'].count().reset_index(name='count')\n",
    "\n",
    "df_sum.head()"
   ]
  },
  {
   "cell_type": "code",
   "execution_count": 268,
   "metadata": {},
   "outputs": [
    {
     "data": {
      "text/html": [
       "<div>\n",
       "<style scoped>\n",
       "    .dataframe tbody tr th:only-of-type {\n",
       "        vertical-align: middle;\n",
       "    }\n",
       "\n",
       "    .dataframe tbody tr th {\n",
       "        vertical-align: top;\n",
       "    }\n",
       "\n",
       "    .dataframe thead th {\n",
       "        text-align: right;\n",
       "    }\n",
       "</style>\n",
       "<table border=\"1\" class=\"dataframe\">\n",
       "  <thead>\n",
       "    <tr style=\"text-align: right;\">\n",
       "      <th></th>\n",
       "      <th>v1</th>\n",
       "      <th>count</th>\n",
       "      <th>percentage</th>\n",
       "    </tr>\n",
       "  </thead>\n",
       "  <tbody>\n",
       "    <tr>\n",
       "      <th>0</th>\n",
       "      <td>ham</td>\n",
       "      <td>4796</td>\n",
       "      <td>86.52</td>\n",
       "    </tr>\n",
       "    <tr>\n",
       "      <th>1</th>\n",
       "      <td>spam</td>\n",
       "      <td>747</td>\n",
       "      <td>13.48</td>\n",
       "    </tr>\n",
       "  </tbody>\n",
       "</table>\n",
       "</div>"
      ],
      "text/plain": [
       "     v1  count  percentage\n",
       "0   ham   4796       86.52\n",
       "1  spam    747       13.48"
      ]
     },
     "execution_count": 268,
     "metadata": {},
     "output_type": "execute_result"
    }
   ],
   "source": [
    "# Pourcentage entre ham et spam\n",
    "df_sum[\"percentage\"] = round((df_sum[\"count\"] / df_sum[\"count\"].sum()) * 100, 2)\n",
    "df_sum"
   ]
  },
  {
   "cell_type": "code",
   "execution_count": 269,
   "metadata": {},
   "outputs": [
    {
     "data": {
      "application/vnd.plotly.v1+json": {
       "config": {
        "plotlyServerURL": "https://plot.ly"
       },
       "data": [
        {
         "hovertemplate": "v1=%{x}<br>count=%{y}<extra></extra>",
         "legendgroup": "ham",
         "marker": {
          "color": "#636efa",
          "pattern": {
           "shape": ""
          }
         },
         "name": "ham",
         "orientation": "v",
         "showlegend": true,
         "textposition": "auto",
         "type": "bar",
         "x": [
          "ham"
         ],
         "xaxis": "x",
         "y": {
          "bdata": "vBI=",
          "dtype": "i2"
         },
         "yaxis": "y"
        },
        {
         "hovertemplate": "v1=%{x}<br>count=%{y}<extra></extra>",
         "legendgroup": "spam",
         "marker": {
          "color": "#EF553B",
          "pattern": {
           "shape": ""
          }
         },
         "name": "spam",
         "orientation": "v",
         "showlegend": true,
         "textposition": "auto",
         "type": "bar",
         "x": [
          "spam"
         ],
         "xaxis": "x",
         "y": {
          "bdata": "6wI=",
          "dtype": "i2"
         },
         "yaxis": "y"
        }
       ],
       "layout": {
        "barmode": "relative",
        "legend": {
         "title": {
          "text": "v1"
         },
         "tracegroupgap": 0
        },
        "template": {
         "data": {
          "bar": [
           {
            "error_x": {
             "color": "#2a3f5f"
            },
            "error_y": {
             "color": "#2a3f5f"
            },
            "marker": {
             "line": {
              "color": "#E5ECF6",
              "width": 0.5
             },
             "pattern": {
              "fillmode": "overlay",
              "size": 10,
              "solidity": 0.2
             }
            },
            "type": "bar"
           }
          ],
          "barpolar": [
           {
            "marker": {
             "line": {
              "color": "#E5ECF6",
              "width": 0.5
             },
             "pattern": {
              "fillmode": "overlay",
              "size": 10,
              "solidity": 0.2
             }
            },
            "type": "barpolar"
           }
          ],
          "carpet": [
           {
            "aaxis": {
             "endlinecolor": "#2a3f5f",
             "gridcolor": "white",
             "linecolor": "white",
             "minorgridcolor": "white",
             "startlinecolor": "#2a3f5f"
            },
            "baxis": {
             "endlinecolor": "#2a3f5f",
             "gridcolor": "white",
             "linecolor": "white",
             "minorgridcolor": "white",
             "startlinecolor": "#2a3f5f"
            },
            "type": "carpet"
           }
          ],
          "choropleth": [
           {
            "colorbar": {
             "outlinewidth": 0,
             "ticks": ""
            },
            "type": "choropleth"
           }
          ],
          "contour": [
           {
            "colorbar": {
             "outlinewidth": 0,
             "ticks": ""
            },
            "colorscale": [
             [
              0,
              "#0d0887"
             ],
             [
              0.1111111111111111,
              "#46039f"
             ],
             [
              0.2222222222222222,
              "#7201a8"
             ],
             [
              0.3333333333333333,
              "#9c179e"
             ],
             [
              0.4444444444444444,
              "#bd3786"
             ],
             [
              0.5555555555555556,
              "#d8576b"
             ],
             [
              0.6666666666666666,
              "#ed7953"
             ],
             [
              0.7777777777777778,
              "#fb9f3a"
             ],
             [
              0.8888888888888888,
              "#fdca26"
             ],
             [
              1,
              "#f0f921"
             ]
            ],
            "type": "contour"
           }
          ],
          "contourcarpet": [
           {
            "colorbar": {
             "outlinewidth": 0,
             "ticks": ""
            },
            "type": "contourcarpet"
           }
          ],
          "heatmap": [
           {
            "colorbar": {
             "outlinewidth": 0,
             "ticks": ""
            },
            "colorscale": [
             [
              0,
              "#0d0887"
             ],
             [
              0.1111111111111111,
              "#46039f"
             ],
             [
              0.2222222222222222,
              "#7201a8"
             ],
             [
              0.3333333333333333,
              "#9c179e"
             ],
             [
              0.4444444444444444,
              "#bd3786"
             ],
             [
              0.5555555555555556,
              "#d8576b"
             ],
             [
              0.6666666666666666,
              "#ed7953"
             ],
             [
              0.7777777777777778,
              "#fb9f3a"
             ],
             [
              0.8888888888888888,
              "#fdca26"
             ],
             [
              1,
              "#f0f921"
             ]
            ],
            "type": "heatmap"
           }
          ],
          "histogram": [
           {
            "marker": {
             "pattern": {
              "fillmode": "overlay",
              "size": 10,
              "solidity": 0.2
             }
            },
            "type": "histogram"
           }
          ],
          "histogram2d": [
           {
            "colorbar": {
             "outlinewidth": 0,
             "ticks": ""
            },
            "colorscale": [
             [
              0,
              "#0d0887"
             ],
             [
              0.1111111111111111,
              "#46039f"
             ],
             [
              0.2222222222222222,
              "#7201a8"
             ],
             [
              0.3333333333333333,
              "#9c179e"
             ],
             [
              0.4444444444444444,
              "#bd3786"
             ],
             [
              0.5555555555555556,
              "#d8576b"
             ],
             [
              0.6666666666666666,
              "#ed7953"
             ],
             [
              0.7777777777777778,
              "#fb9f3a"
             ],
             [
              0.8888888888888888,
              "#fdca26"
             ],
             [
              1,
              "#f0f921"
             ]
            ],
            "type": "histogram2d"
           }
          ],
          "histogram2dcontour": [
           {
            "colorbar": {
             "outlinewidth": 0,
             "ticks": ""
            },
            "colorscale": [
             [
              0,
              "#0d0887"
             ],
             [
              0.1111111111111111,
              "#46039f"
             ],
             [
              0.2222222222222222,
              "#7201a8"
             ],
             [
              0.3333333333333333,
              "#9c179e"
             ],
             [
              0.4444444444444444,
              "#bd3786"
             ],
             [
              0.5555555555555556,
              "#d8576b"
             ],
             [
              0.6666666666666666,
              "#ed7953"
             ],
             [
              0.7777777777777778,
              "#fb9f3a"
             ],
             [
              0.8888888888888888,
              "#fdca26"
             ],
             [
              1,
              "#f0f921"
             ]
            ],
            "type": "histogram2dcontour"
           }
          ],
          "mesh3d": [
           {
            "colorbar": {
             "outlinewidth": 0,
             "ticks": ""
            },
            "type": "mesh3d"
           }
          ],
          "parcoords": [
           {
            "line": {
             "colorbar": {
              "outlinewidth": 0,
              "ticks": ""
             }
            },
            "type": "parcoords"
           }
          ],
          "pie": [
           {
            "automargin": true,
            "type": "pie"
           }
          ],
          "scatter": [
           {
            "fillpattern": {
             "fillmode": "overlay",
             "size": 10,
             "solidity": 0.2
            },
            "type": "scatter"
           }
          ],
          "scatter3d": [
           {
            "line": {
             "colorbar": {
              "outlinewidth": 0,
              "ticks": ""
             }
            },
            "marker": {
             "colorbar": {
              "outlinewidth": 0,
              "ticks": ""
             }
            },
            "type": "scatter3d"
           }
          ],
          "scattercarpet": [
           {
            "marker": {
             "colorbar": {
              "outlinewidth": 0,
              "ticks": ""
             }
            },
            "type": "scattercarpet"
           }
          ],
          "scattergeo": [
           {
            "marker": {
             "colorbar": {
              "outlinewidth": 0,
              "ticks": ""
             }
            },
            "type": "scattergeo"
           }
          ],
          "scattergl": [
           {
            "marker": {
             "colorbar": {
              "outlinewidth": 0,
              "ticks": ""
             }
            },
            "type": "scattergl"
           }
          ],
          "scattermap": [
           {
            "marker": {
             "colorbar": {
              "outlinewidth": 0,
              "ticks": ""
             }
            },
            "type": "scattermap"
           }
          ],
          "scattermapbox": [
           {
            "marker": {
             "colorbar": {
              "outlinewidth": 0,
              "ticks": ""
             }
            },
            "type": "scattermapbox"
           }
          ],
          "scatterpolar": [
           {
            "marker": {
             "colorbar": {
              "outlinewidth": 0,
              "ticks": ""
             }
            },
            "type": "scatterpolar"
           }
          ],
          "scatterpolargl": [
           {
            "marker": {
             "colorbar": {
              "outlinewidth": 0,
              "ticks": ""
             }
            },
            "type": "scatterpolargl"
           }
          ],
          "scatterternary": [
           {
            "marker": {
             "colorbar": {
              "outlinewidth": 0,
              "ticks": ""
             }
            },
            "type": "scatterternary"
           }
          ],
          "surface": [
           {
            "colorbar": {
             "outlinewidth": 0,
             "ticks": ""
            },
            "colorscale": [
             [
              0,
              "#0d0887"
             ],
             [
              0.1111111111111111,
              "#46039f"
             ],
             [
              0.2222222222222222,
              "#7201a8"
             ],
             [
              0.3333333333333333,
              "#9c179e"
             ],
             [
              0.4444444444444444,
              "#bd3786"
             ],
             [
              0.5555555555555556,
              "#d8576b"
             ],
             [
              0.6666666666666666,
              "#ed7953"
             ],
             [
              0.7777777777777778,
              "#fb9f3a"
             ],
             [
              0.8888888888888888,
              "#fdca26"
             ],
             [
              1,
              "#f0f921"
             ]
            ],
            "type": "surface"
           }
          ],
          "table": [
           {
            "cells": {
             "fill": {
              "color": "#EBF0F8"
             },
             "line": {
              "color": "white"
             }
            },
            "header": {
             "fill": {
              "color": "#C8D4E3"
             },
             "line": {
              "color": "white"
             }
            },
            "type": "table"
           }
          ]
         },
         "layout": {
          "annotationdefaults": {
           "arrowcolor": "#2a3f5f",
           "arrowhead": 0,
           "arrowwidth": 1
          },
          "autotypenumbers": "strict",
          "coloraxis": {
           "colorbar": {
            "outlinewidth": 0,
            "ticks": ""
           }
          },
          "colorscale": {
           "diverging": [
            [
             0,
             "#8e0152"
            ],
            [
             0.1,
             "#c51b7d"
            ],
            [
             0.2,
             "#de77ae"
            ],
            [
             0.3,
             "#f1b6da"
            ],
            [
             0.4,
             "#fde0ef"
            ],
            [
             0.5,
             "#f7f7f7"
            ],
            [
             0.6,
             "#e6f5d0"
            ],
            [
             0.7,
             "#b8e186"
            ],
            [
             0.8,
             "#7fbc41"
            ],
            [
             0.9,
             "#4d9221"
            ],
            [
             1,
             "#276419"
            ]
           ],
           "sequential": [
            [
             0,
             "#0d0887"
            ],
            [
             0.1111111111111111,
             "#46039f"
            ],
            [
             0.2222222222222222,
             "#7201a8"
            ],
            [
             0.3333333333333333,
             "#9c179e"
            ],
            [
             0.4444444444444444,
             "#bd3786"
            ],
            [
             0.5555555555555556,
             "#d8576b"
            ],
            [
             0.6666666666666666,
             "#ed7953"
            ],
            [
             0.7777777777777778,
             "#fb9f3a"
            ],
            [
             0.8888888888888888,
             "#fdca26"
            ],
            [
             1,
             "#f0f921"
            ]
           ],
           "sequentialminus": [
            [
             0,
             "#0d0887"
            ],
            [
             0.1111111111111111,
             "#46039f"
            ],
            [
             0.2222222222222222,
             "#7201a8"
            ],
            [
             0.3333333333333333,
             "#9c179e"
            ],
            [
             0.4444444444444444,
             "#bd3786"
            ],
            [
             0.5555555555555556,
             "#d8576b"
            ],
            [
             0.6666666666666666,
             "#ed7953"
            ],
            [
             0.7777777777777778,
             "#fb9f3a"
            ],
            [
             0.8888888888888888,
             "#fdca26"
            ],
            [
             1,
             "#f0f921"
            ]
           ]
          },
          "colorway": [
           "#636efa",
           "#EF553B",
           "#00cc96",
           "#ab63fa",
           "#FFA15A",
           "#19d3f3",
           "#FF6692",
           "#B6E880",
           "#FF97FF",
           "#FECB52"
          ],
          "font": {
           "color": "#2a3f5f"
          },
          "geo": {
           "bgcolor": "white",
           "lakecolor": "white",
           "landcolor": "#E5ECF6",
           "showlakes": true,
           "showland": true,
           "subunitcolor": "white"
          },
          "hoverlabel": {
           "align": "left"
          },
          "hovermode": "closest",
          "mapbox": {
           "style": "light"
          },
          "paper_bgcolor": "white",
          "plot_bgcolor": "#E5ECF6",
          "polar": {
           "angularaxis": {
            "gridcolor": "white",
            "linecolor": "white",
            "ticks": ""
           },
           "bgcolor": "#E5ECF6",
           "radialaxis": {
            "gridcolor": "white",
            "linecolor": "white",
            "ticks": ""
           }
          },
          "scene": {
           "xaxis": {
            "backgroundcolor": "#E5ECF6",
            "gridcolor": "white",
            "gridwidth": 2,
            "linecolor": "white",
            "showbackground": true,
            "ticks": "",
            "zerolinecolor": "white"
           },
           "yaxis": {
            "backgroundcolor": "#E5ECF6",
            "gridcolor": "white",
            "gridwidth": 2,
            "linecolor": "white",
            "showbackground": true,
            "ticks": "",
            "zerolinecolor": "white"
           },
           "zaxis": {
            "backgroundcolor": "#E5ECF6",
            "gridcolor": "white",
            "gridwidth": 2,
            "linecolor": "white",
            "showbackground": true,
            "ticks": "",
            "zerolinecolor": "white"
           }
          },
          "shapedefaults": {
           "line": {
            "color": "#2a3f5f"
           }
          },
          "ternary": {
           "aaxis": {
            "gridcolor": "white",
            "linecolor": "white",
            "ticks": ""
           },
           "baxis": {
            "gridcolor": "white",
            "linecolor": "white",
            "ticks": ""
           },
           "bgcolor": "#E5ECF6",
           "caxis": {
            "gridcolor": "white",
            "linecolor": "white",
            "ticks": ""
           }
          },
          "title": {
           "x": 0.05
          },
          "xaxis": {
           "automargin": true,
           "gridcolor": "white",
           "linecolor": "white",
           "ticks": "",
           "title": {
            "standoff": 15
           },
           "zerolinecolor": "white",
           "zerolinewidth": 2
          },
          "yaxis": {
           "automargin": true,
           "gridcolor": "white",
           "linecolor": "white",
           "ticks": "",
           "title": {
            "standoff": 15
           },
           "zerolinecolor": "white",
           "zerolinewidth": 2
          }
         }
        },
        "title": {
         "text": "Nombre d'occurrences de ham et spam"
        },
        "xaxis": {
         "anchor": "y",
         "categoryarray": [
          "ham",
          "spam"
         ],
         "categoryorder": "array",
         "domain": [
          0,
          1
         ],
         "title": {
          "text": "v1"
         }
        },
        "yaxis": {
         "anchor": "x",
         "domain": [
          0,
          1
         ],
         "title": {
          "text": "count"
         }
        }
       }
      }
     },
     "metadata": {},
     "output_type": "display_data"
    }
   ],
   "source": [
    "fig = px.bar(df_sum, x='v1', y='count', title='Nombre d\\'occurrences de ham et spam', color='v1')\n",
    "\n",
    "fig.show()"
   ]
  },
  {
   "cell_type": "markdown",
   "metadata": {},
   "source": [
    "On peut observer une _imbalanced_"
   ]
  },
  {
   "cell_type": "code",
   "execution_count": 270,
   "metadata": {},
   "outputs": [
    {
     "data": {
      "application/vnd.plotly.v1+json": {
       "config": {
        "plotlyServerURL": "https://plot.ly"
       },
       "data": [
        {
         "bingroup": "x",
         "hovertemplate": "v1=ham<br>text_length=%{x}<br>count=%{y}<extra></extra>",
         "legendgroup": "ham",
         "marker": {
          "color": "#636efa",
          "opacity": 0.5,
          "pattern": {
           "shape": ""
          }
         },
         "name": "ham",
         "orientation": "v",
         "showlegend": true,
         "type": "histogram",
         "x": {
          "bdata": "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",
          "dtype": "i2"
         },
         "xaxis": "x",
         "yaxis": "y"
        },
        {
         "bingroup": "x",
         "hovertemplate": "v1=spam<br>text_length=%{x}<br>count=%{y}<extra></extra>",
         "legendgroup": "spam",
         "marker": {
          "color": "#EF553B",
          "opacity": 0.5,
          "pattern": {
           "shape": ""
          }
         },
         "name": "spam",
         "orientation": "v",
         "showlegend": true,
         "type": "histogram",
         "x": {
          "bdata": "mwCUAJ4AmgCIAJwAlQCcAJ8ArAB4AKEAmQChAFAAiwCgAJ8AmQCQAJ0AnAB+AKIAmwCfAHwAkgCYAJsAnQCVAEgAjwCJAJ0AkQCWAJoAeQCfAIUAmwCfAJIAigCGAJ0AgACfAG8AlgCUAKUAgQCdAJUAmwCeADEAawCfAKIAiQCdAKQArwChAJ8AkgCgAKoAlACSAFkAkQCgAG8AkgBgAKAARQBkAJUAfwCOAJQAVgCHAIwAggCWAI8AiABhADsAXwCaAJ4AbwCbAKAAJQCjAJMAZQCVAIQAZgBBAGAAoQCXAGMAgQCeAKAAmgCiAI8AlgCFAJwAoQCTAJgAlQCbAKIAmQCgAJAAoQCVAIYAmgCeAIkAhACPAH8AoACiAJsAjACfAJUAhACJACkAnQCNAJUAlgCeAJwAZQBoAIcAmQCPAIYAnQBaAJkAkwCOAJ8ARgCcAJkAnABpAHgAngBzAIwAmwCfAJsAMQCTAJQAMgCPAJIAnwB7AFEAeACTAEIAowCbAIwAfgCbAGUAlwCaAJ8AjwCjAI8AmABHAI0AjgCfAJoAUQCZAJ8AoQCCAJoAegB5AJ0AnwCWAJwAkQCVAIgAkgCQAJkAhABHAJMAoQCdAKAAewCUAKAAngBJAK4AcgB+AJQAkQCKAOAAnwCbAI8AogAhAJoApACaAIQAnACXAKEAngCaAHUAVACbAIQAmwCZAKMAnACPAJ4AkQCOAKAAogCcAEoAhQBoAJkAgQCPAHgAngCbAJgAnwCiAJUAoQAeAJwAoQCQAJ8AmwCfAKEAoACqAIkAmgChAJMAngCYAJ8AoQCcAJ0AtQCgAJ0AmwCgAHoAIQCfADAAtwCgAJMAogCXAJ4AcgCnAKAAeABSAJUAogCeAJ4AbQChAJgAngCYAJ4AmAB6AKEAdACoAJYAngBkAGUAnABGAKAAmQCGAIMAmQCJAJwArQBtAJoAkwCCAKUAowCCAIgAngCZAJ4AGQCcAKAAdgCHAJoApgCeAJsAjQB8AHwAgwAhAJ4AoACJAJgAngCgAG8AnQCXADQAmACMAJoAowCLAIkAlAAwAGQAeACTAIcAnwBrAJMAegCGAG8ApABuAJgAmQCNAJMAeQCMAHAAjwCLAJwAkACRAKAAmABlAHIAnwCZAJQAnwCdAIgAjgCdAK0AMgCLAGkAnQCGACgAkgCMAE4AlgCgAFEAfwCZAJ0AiACdAJkAQACgAJ4AoQBqAIsAmQCZAGUAnQCUAIwAoQCcAJYAnQCYAKIAnQBEAIUAhgCRAJUAjwCbAJ0AcwCmAJ0AmACdAJwAlgCzAJ8AcgDFAJwADQCTAGUAbQCeAIkAnwBWAJsAnACeAJ8AeACiAKIAmACLAG0AawBgAJcAlwCZAHkAgACRAFYAngBmAHIAigCHAJIAoAASAD8AiQBfAI8AnwChAJUASQCfAJ8AlQAvAJwAnACfAJUAjQBqAHIAmgCUAIcApwCEAHoAjQCdAJgAkgCgAKEAkACaAHAAnQCQAJUAngCbAJQAnQBIAJ0AoACHAGkASgCdAJgAiACjAJ4ASgCbAFEAigCiAIYAoQCRAKMAfgCHAIUAkgCQAJwASACEAFMAiQChAJcALwBBAH0AngBJADMAoQCjAKAAjwCcAJQAcwCfAJgAfwCeAJ8AnACQAGwAiwCmAI8AmwCeAIgAmACgAJsAhACZAI8AmgBqAKAAmwCQAIsAWQCTAIgAngCZAEUAmACZAIcAiACfAF8AiQCTAJYAhACSAIYAtQCbAJkAnwB8AHgAiQCMAJkAoACJAIoAsQCpAJwAmgCSAIUAfgCVAIcAbQCfAJEAhACgAIkAhACeAJUAmQAvAJ8AnAAsAKQAogCcAKAAdwCOAJwAlgCXAKQAoACIAJIAnwCbAH8AkQCQAJwAmwCdAJ0AnABwAGoAnQCcAIsAWgCgACoAagCjAEYAcACdAJMAVQCcAI8AlQCRAKEAngCUAJkAhgBaAKAAoACTAKEA",
          "dtype": "i2"
         },
         "xaxis": "x",
         "yaxis": "y"
        }
       ],
       "layout": {
        "barmode": "overlay",
        "legend": {
         "title": {
          "text": "v1"
         },
         "tracegroupgap": 0
        },
        "margin": {
         "t": 60
        },
        "template": {
         "data": {
          "bar": [
           {
            "error_x": {
             "color": "#2a3f5f"
            },
            "error_y": {
             "color": "#2a3f5f"
            },
            "marker": {
             "line": {
              "color": "#E5ECF6",
              "width": 0.5
             },
             "pattern": {
              "fillmode": "overlay",
              "size": 10,
              "solidity": 0.2
             }
            },
            "type": "bar"
           }
          ],
          "barpolar": [
           {
            "marker": {
             "line": {
              "color": "#E5ECF6",
              "width": 0.5
             },
             "pattern": {
              "fillmode": "overlay",
              "size": 10,
              "solidity": 0.2
             }
            },
            "type": "barpolar"
           }
          ],
          "carpet": [
           {
            "aaxis": {
             "endlinecolor": "#2a3f5f",
             "gridcolor": "white",
             "linecolor": "white",
             "minorgridcolor": "white",
             "startlinecolor": "#2a3f5f"
            },
            "baxis": {
             "endlinecolor": "#2a3f5f",
             "gridcolor": "white",
             "linecolor": "white",
             "minorgridcolor": "white",
             "startlinecolor": "#2a3f5f"
            },
            "type": "carpet"
           }
          ],
          "choropleth": [
           {
            "colorbar": {
             "outlinewidth": 0,
             "ticks": ""
            },
            "type": "choropleth"
           }
          ],
          "contour": [
           {
            "colorbar": {
             "outlinewidth": 0,
             "ticks": ""
            },
            "colorscale": [
             [
              0,
              "#0d0887"
             ],
             [
              0.1111111111111111,
              "#46039f"
             ],
             [
              0.2222222222222222,
              "#7201a8"
             ],
             [
              0.3333333333333333,
              "#9c179e"
             ],
             [
              0.4444444444444444,
              "#bd3786"
             ],
             [
              0.5555555555555556,
              "#d8576b"
             ],
             [
              0.6666666666666666,
              "#ed7953"
             ],
             [
              0.7777777777777778,
              "#fb9f3a"
             ],
             [
              0.8888888888888888,
              "#fdca26"
             ],
             [
              1,
              "#f0f921"
             ]
            ],
            "type": "contour"
           }
          ],
          "contourcarpet": [
           {
            "colorbar": {
             "outlinewidth": 0,
             "ticks": ""
            },
            "type": "contourcarpet"
           }
          ],
          "heatmap": [
           {
            "colorbar": {
             "outlinewidth": 0,
             "ticks": ""
            },
            "colorscale": [
             [
              0,
              "#0d0887"
             ],
             [
              0.1111111111111111,
              "#46039f"
             ],
             [
              0.2222222222222222,
              "#7201a8"
             ],
             [
              0.3333333333333333,
              "#9c179e"
             ],
             [
              0.4444444444444444,
              "#bd3786"
             ],
             [
              0.5555555555555556,
              "#d8576b"
             ],
             [
              0.6666666666666666,
              "#ed7953"
             ],
             [
              0.7777777777777778,
              "#fb9f3a"
             ],
             [
              0.8888888888888888,
              "#fdca26"
             ],
             [
              1,
              "#f0f921"
             ]
            ],
            "type": "heatmap"
           }
          ],
          "histogram": [
           {
            "marker": {
             "pattern": {
              "fillmode": "overlay",
              "size": 10,
              "solidity": 0.2
             }
            },
            "type": "histogram"
           }
          ],
          "histogram2d": [
           {
            "colorbar": {
             "outlinewidth": 0,
             "ticks": ""
            },
            "colorscale": [
             [
              0,
              "#0d0887"
             ],
             [
              0.1111111111111111,
              "#46039f"
             ],
             [
              0.2222222222222222,
              "#7201a8"
             ],
             [
              0.3333333333333333,
              "#9c179e"
             ],
             [
              0.4444444444444444,
              "#bd3786"
             ],
             [
              0.5555555555555556,
              "#d8576b"
             ],
             [
              0.6666666666666666,
              "#ed7953"
             ],
             [
              0.7777777777777778,
              "#fb9f3a"
             ],
             [
              0.8888888888888888,
              "#fdca26"
             ],
             [
              1,
              "#f0f921"
             ]
            ],
            "type": "histogram2d"
           }
          ],
          "histogram2dcontour": [
           {
            "colorbar": {
             "outlinewidth": 0,
             "ticks": ""
            },
            "colorscale": [
             [
              0,
              "#0d0887"
             ],
             [
              0.1111111111111111,
              "#46039f"
             ],
             [
              0.2222222222222222,
              "#7201a8"
             ],
             [
              0.3333333333333333,
              "#9c179e"
             ],
             [
              0.4444444444444444,
              "#bd3786"
             ],
             [
              0.5555555555555556,
              "#d8576b"
             ],
             [
              0.6666666666666666,
              "#ed7953"
             ],
             [
              0.7777777777777778,
              "#fb9f3a"
             ],
             [
              0.8888888888888888,
              "#fdca26"
             ],
             [
              1,
              "#f0f921"
             ]
            ],
            "type": "histogram2dcontour"
           }
          ],
          "mesh3d": [
           {
            "colorbar": {
             "outlinewidth": 0,
             "ticks": ""
            },
            "type": "mesh3d"
           }
          ],
          "parcoords": [
           {
            "line": {
             "colorbar": {
              "outlinewidth": 0,
              "ticks": ""
             }
            },
            "type": "parcoords"
           }
          ],
          "pie": [
           {
            "automargin": true,
            "type": "pie"
           }
          ],
          "scatter": [
           {
            "fillpattern": {
             "fillmode": "overlay",
             "size": 10,
             "solidity": 0.2
            },
            "type": "scatter"
           }
          ],
          "scatter3d": [
           {
            "line": {
             "colorbar": {
              "outlinewidth": 0,
              "ticks": ""
             }
            },
            "marker": {
             "colorbar": {
              "outlinewidth": 0,
              "ticks": ""
             }
            },
            "type": "scatter3d"
           }
          ],
          "scattercarpet": [
           {
            "marker": {
             "colorbar": {
              "outlinewidth": 0,
              "ticks": ""
             }
            },
            "type": "scattercarpet"
           }
          ],
          "scattergeo": [
           {
            "marker": {
             "colorbar": {
              "outlinewidth": 0,
              "ticks": ""
             }
            },
            "type": "scattergeo"
           }
          ],
          "scattergl": [
           {
            "marker": {
             "colorbar": {
              "outlinewidth": 0,
              "ticks": ""
             }
            },
            "type": "scattergl"
           }
          ],
          "scattermap": [
           {
            "marker": {
             "colorbar": {
              "outlinewidth": 0,
              "ticks": ""
             }
            },
            "type": "scattermap"
           }
          ],
          "scattermapbox": [
           {
            "marker": {
             "colorbar": {
              "outlinewidth": 0,
              "ticks": ""
             }
            },
            "type": "scattermapbox"
           }
          ],
          "scatterpolar": [
           {
            "marker": {
             "colorbar": {
              "outlinewidth": 0,
              "ticks": ""
             }
            },
            "type": "scatterpolar"
           }
          ],
          "scatterpolargl": [
           {
            "marker": {
             "colorbar": {
              "outlinewidth": 0,
              "ticks": ""
             }
            },
            "type": "scatterpolargl"
           }
          ],
          "scatterternary": [
           {
            "marker": {
             "colorbar": {
              "outlinewidth": 0,
              "ticks": ""
             }
            },
            "type": "scatterternary"
           }
          ],
          "surface": [
           {
            "colorbar": {
             "outlinewidth": 0,
             "ticks": ""
            },
            "colorscale": [
             [
              0,
              "#0d0887"
             ],
             [
              0.1111111111111111,
              "#46039f"
             ],
             [
              0.2222222222222222,
              "#7201a8"
             ],
             [
              0.3333333333333333,
              "#9c179e"
             ],
             [
              0.4444444444444444,
              "#bd3786"
             ],
             [
              0.5555555555555556,
              "#d8576b"
             ],
             [
              0.6666666666666666,
              "#ed7953"
             ],
             [
              0.7777777777777778,
              "#fb9f3a"
             ],
             [
              0.8888888888888888,
              "#fdca26"
             ],
             [
              1,
              "#f0f921"
             ]
            ],
            "type": "surface"
           }
          ],
          "table": [
           {
            "cells": {
             "fill": {
              "color": "#EBF0F8"
             },
             "line": {
              "color": "white"
             }
            },
            "header": {
             "fill": {
              "color": "#C8D4E3"
             },
             "line": {
              "color": "white"
             }
            },
            "type": "table"
           }
          ]
         },
         "layout": {
          "annotationdefaults": {
           "arrowcolor": "#2a3f5f",
           "arrowhead": 0,
           "arrowwidth": 1
          },
          "autotypenumbers": "strict",
          "coloraxis": {
           "colorbar": {
            "outlinewidth": 0,
            "ticks": ""
           }
          },
          "colorscale": {
           "diverging": [
            [
             0,
             "#8e0152"
            ],
            [
             0.1,
             "#c51b7d"
            ],
            [
             0.2,
             "#de77ae"
            ],
            [
             0.3,
             "#f1b6da"
            ],
            [
             0.4,
             "#fde0ef"
            ],
            [
             0.5,
             "#f7f7f7"
            ],
            [
             0.6,
             "#e6f5d0"
            ],
            [
             0.7,
             "#b8e186"
            ],
            [
             0.8,
             "#7fbc41"
            ],
            [
             0.9,
             "#4d9221"
            ],
            [
             1,
             "#276419"
            ]
           ],
           "sequential": [
            [
             0,
             "#0d0887"
            ],
            [
             0.1111111111111111,
             "#46039f"
            ],
            [
             0.2222222222222222,
             "#7201a8"
            ],
            [
             0.3333333333333333,
             "#9c179e"
            ],
            [
             0.4444444444444444,
             "#bd3786"
            ],
            [
             0.5555555555555556,
             "#d8576b"
            ],
            [
             0.6666666666666666,
             "#ed7953"
            ],
            [
             0.7777777777777778,
             "#fb9f3a"
            ],
            [
             0.8888888888888888,
             "#fdca26"
            ],
            [
             1,
             "#f0f921"
            ]
           ],
           "sequentialminus": [
            [
             0,
             "#0d0887"
            ],
            [
             0.1111111111111111,
             "#46039f"
            ],
            [
             0.2222222222222222,
             "#7201a8"
            ],
            [
             0.3333333333333333,
             "#9c179e"
            ],
            [
             0.4444444444444444,
             "#bd3786"
            ],
            [
             0.5555555555555556,
             "#d8576b"
            ],
            [
             0.6666666666666666,
             "#ed7953"
            ],
            [
             0.7777777777777778,
             "#fb9f3a"
            ],
            [
             0.8888888888888888,
             "#fdca26"
            ],
            [
             1,
             "#f0f921"
            ]
           ]
          },
          "colorway": [
           "#636efa",
           "#EF553B",
           "#00cc96",
           "#ab63fa",
           "#FFA15A",
           "#19d3f3",
           "#FF6692",
           "#B6E880",
           "#FF97FF",
           "#FECB52"
          ],
          "font": {
           "color": "#2a3f5f"
          },
          "geo": {
           "bgcolor": "white",
           "lakecolor": "white",
           "landcolor": "#E5ECF6",
           "showlakes": true,
           "showland": true,
           "subunitcolor": "white"
          },
          "hoverlabel": {
           "align": "left"
          },
          "hovermode": "closest",
          "mapbox": {
           "style": "light"
          },
          "paper_bgcolor": "white",
          "plot_bgcolor": "#E5ECF6",
          "polar": {
           "angularaxis": {
            "gridcolor": "white",
            "linecolor": "white",
            "ticks": ""
           },
           "bgcolor": "#E5ECF6",
           "radialaxis": {
            "gridcolor": "white",
            "linecolor": "white",
            "ticks": ""
           }
          },
          "scene": {
           "xaxis": {
            "backgroundcolor": "#E5ECF6",
            "gridcolor": "white",
            "gridwidth": 2,
            "linecolor": "white",
            "showbackground": true,
            "ticks": "",
            "zerolinecolor": "white"
           },
           "yaxis": {
            "backgroundcolor": "#E5ECF6",
            "gridcolor": "white",
            "gridwidth": 2,
            "linecolor": "white",
            "showbackground": true,
            "ticks": "",
            "zerolinecolor": "white"
           },
           "zaxis": {
            "backgroundcolor": "#E5ECF6",
            "gridcolor": "white",
            "gridwidth": 2,
            "linecolor": "white",
            "showbackground": true,
            "ticks": "",
            "zerolinecolor": "white"
           }
          },
          "shapedefaults": {
           "line": {
            "color": "#2a3f5f"
           }
          },
          "ternary": {
           "aaxis": {
            "gridcolor": "white",
            "linecolor": "white",
            "ticks": ""
           },
           "baxis": {
            "gridcolor": "white",
            "linecolor": "white",
            "ticks": ""
           },
           "bgcolor": "#E5ECF6",
           "caxis": {
            "gridcolor": "white",
            "linecolor": "white",
            "ticks": ""
           }
          },
          "title": {
           "x": 0.05
          },
          "xaxis": {
           "automargin": true,
           "gridcolor": "white",
           "linecolor": "white",
           "ticks": "",
           "title": {
            "standoff": 15
           },
           "zerolinecolor": "white",
           "zerolinewidth": 2
          },
          "yaxis": {
           "automargin": true,
           "gridcolor": "white",
           "linecolor": "white",
           "ticks": "",
           "title": {
            "standoff": 15
           },
           "zerolinecolor": "white",
           "zerolinewidth": 2
          }
         }
        },
        "xaxis": {
         "anchor": "y",
         "domain": [
          0,
          1
         ],
         "title": {
          "text": "text_length"
         }
        },
        "yaxis": {
         "anchor": "x",
         "domain": [
          0,
          1
         ],
         "title": {
          "text": "count"
         }
        }
       }
      }
     },
     "metadata": {},
     "output_type": "display_data"
    }
   ],
   "source": [
    "df[\"text_length\"] = df[\"text\"].apply(len)\n",
    "\n",
    "fig = px.histogram(df, \"text_length\", color=\"v1\", barmode=\"overlay\")\n",
    "fig.show()"
   ]
  },
  {
   "cell_type": "markdown",
   "metadata": {},
   "source": [
    "Les messages \"ham\" sont généralement plus long que les spams"
   ]
  },
  {
   "cell_type": "markdown",
   "metadata": {},
   "source": [
    "## Preprocessing"
   ]
  },
  {
   "cell_type": "code",
   "execution_count": 271,
   "metadata": {},
   "outputs": [
    {
     "data": {
      "text/plain": [
       "(5543, 3)"
      ]
     },
     "execution_count": 271,
     "metadata": {},
     "output_type": "execute_result"
    }
   ],
   "source": [
    "df.shape\n",
    "#(5543, 3)"
   ]
  },
  {
   "cell_type": "code",
   "execution_count": 272,
   "metadata": {},
   "outputs": [
    {
     "data": {
      "text/html": [
       "<div>\n",
       "<style scoped>\n",
       "    .dataframe tbody tr th:only-of-type {\n",
       "        vertical-align: middle;\n",
       "    }\n",
       "\n",
       "    .dataframe tbody tr th {\n",
       "        vertical-align: top;\n",
       "    }\n",
       "\n",
       "    .dataframe thead th {\n",
       "        text-align: right;\n",
       "    }\n",
       "</style>\n",
       "<table border=\"1\" class=\"dataframe\">\n",
       "  <thead>\n",
       "    <tr style=\"text-align: right;\">\n",
       "      <th></th>\n",
       "      <th>v1</th>\n",
       "      <th>text</th>\n",
       "      <th>text_length</th>\n",
       "      <th>text_clean</th>\n",
       "    </tr>\n",
       "  </thead>\n",
       "  <tbody>\n",
       "    <tr>\n",
       "      <th>0</th>\n",
       "      <td>0</td>\n",
       "      <td>Go until jurong point, crazy.. Available only ...</td>\n",
       "      <td>111</td>\n",
       "      <td>go until jurong point crazy available only in ...</td>\n",
       "    </tr>\n",
       "    <tr>\n",
       "      <th>1</th>\n",
       "      <td>0</td>\n",
       "      <td>Ok lar... Joking wif u oni...</td>\n",
       "      <td>29</td>\n",
       "      <td>ok lar joking wif u oni</td>\n",
       "    </tr>\n",
       "    <tr>\n",
       "      <th>2</th>\n",
       "      <td>1</td>\n",
       "      <td>Free entry in 2 a wkly comp to win FA Cup fina...</td>\n",
       "      <td>155</td>\n",
       "      <td>free entry in 2 a wkly comp to win fa cup fina...</td>\n",
       "    </tr>\n",
       "    <tr>\n",
       "      <th>3</th>\n",
       "      <td>0</td>\n",
       "      <td>U dun say so early hor... U c already then say...</td>\n",
       "      <td>49</td>\n",
       "      <td>u dun say so early hor u c already then say</td>\n",
       "    </tr>\n",
       "    <tr>\n",
       "      <th>4</th>\n",
       "      <td>0</td>\n",
       "      <td>Nah I don't think he goes to usf, he lives aro...</td>\n",
       "      <td>61</td>\n",
       "      <td>nah i don t think he goes to usf he lives arou...</td>\n",
       "    </tr>\n",
       "    <tr>\n",
       "      <th>...</th>\n",
       "      <td>...</td>\n",
       "      <td>...</td>\n",
       "      <td>...</td>\n",
       "      <td>...</td>\n",
       "    </tr>\n",
       "    <tr>\n",
       "      <th>5538</th>\n",
       "      <td>1</td>\n",
       "      <td>This is the 2nd time we have tried 2 contact u...</td>\n",
       "      <td>161</td>\n",
       "      <td>this is the 2nd time we have tried 2 contact u...</td>\n",
       "    </tr>\n",
       "    <tr>\n",
       "      <th>5539</th>\n",
       "      <td>0</td>\n",
       "      <td>Will Ì_ b going to esplanade fr home?</td>\n",
       "      <td>37</td>\n",
       "      <td>will _ b going to esplanade fr home</td>\n",
       "    </tr>\n",
       "    <tr>\n",
       "      <th>5540</th>\n",
       "      <td>0</td>\n",
       "      <td>Pity, * was in mood for that. So...any other s...</td>\n",
       "      <td>57</td>\n",
       "      <td>pity was in mood for that so any other suggest...</td>\n",
       "    </tr>\n",
       "    <tr>\n",
       "      <th>5541</th>\n",
       "      <td>0</td>\n",
       "      <td>The guy did some bitching but I acted like i'd...</td>\n",
       "      <td>125</td>\n",
       "      <td>the guy did some bitching but i acted like i d...</td>\n",
       "    </tr>\n",
       "    <tr>\n",
       "      <th>5542</th>\n",
       "      <td>0</td>\n",
       "      <td>Rofl. Its true to its name</td>\n",
       "      <td>26</td>\n",
       "      <td>rofl its true to its name</td>\n",
       "    </tr>\n",
       "  </tbody>\n",
       "</table>\n",
       "<p>5543 rows × 4 columns</p>\n",
       "</div>"
      ],
      "text/plain": [
       "      v1                                               text  text_length  \\\n",
       "0      0  Go until jurong point, crazy.. Available only ...          111   \n",
       "1      0                      Ok lar... Joking wif u oni...           29   \n",
       "2      1  Free entry in 2 a wkly comp to win FA Cup fina...          155   \n",
       "3      0  U dun say so early hor... U c already then say...           49   \n",
       "4      0  Nah I don't think he goes to usf, he lives aro...           61   \n",
       "...   ..                                                ...          ...   \n",
       "5538   1  This is the 2nd time we have tried 2 contact u...          161   \n",
       "5539   0              Will Ì_ b going to esplanade fr home?           37   \n",
       "5540   0  Pity, * was in mood for that. So...any other s...           57   \n",
       "5541   0  The guy did some bitching but I acted like i'd...          125   \n",
       "5542   0                         Rofl. Its true to its name           26   \n",
       "\n",
       "                                             text_clean  \n",
       "0     go until jurong point crazy available only in ...  \n",
       "1                              ok lar joking wif u oni   \n",
       "2     free entry in 2 a wkly comp to win fa cup fina...  \n",
       "3          u dun say so early hor u c already then say   \n",
       "4     nah i don t think he goes to usf he lives arou...  \n",
       "...                                                 ...  \n",
       "5538  this is the 2nd time we have tried 2 contact u...  \n",
       "5539               will _ b going to esplanade fr home   \n",
       "5540  pity was in mood for that so any other suggest...  \n",
       "5541  the guy did some bitching but i acted like i d...  \n",
       "5542                          rofl its true to its name  \n",
       "\n",
       "[5543 rows x 4 columns]"
      ]
     },
     "execution_count": 272,
     "metadata": {},
     "output_type": "execute_result"
    }
   ],
   "source": [
    "df['v1'] = df.v1.map({'ham':0,'spam':1})\n",
    "df['text_clean'] = df['text'].str.replace(r\"[^a-zA-Z0-9&@#_-]+\", \" \",regex=True) # suppression des caracteres autres que lettre, chiffre ou & @ # _ -\n",
    "df['text_clean'] = df['text_clean'].fillna('').apply(lambda x: x.lower()) # minuscule\n",
    "\n",
    "df"
   ]
  },
  {
   "cell_type": "code",
   "execution_count": 273,
   "metadata": {},
   "outputs": [
    {
     "data": {
      "text/html": [
       "<div>\n",
       "<style scoped>\n",
       "    .dataframe tbody tr th:only-of-type {\n",
       "        vertical-align: middle;\n",
       "    }\n",
       "\n",
       "    .dataframe tbody tr th {\n",
       "        vertical-align: top;\n",
       "    }\n",
       "\n",
       "    .dataframe thead th {\n",
       "        text-align: right;\n",
       "    }\n",
       "</style>\n",
       "<table border=\"1\" class=\"dataframe\">\n",
       "  <thead>\n",
       "    <tr style=\"text-align: right;\">\n",
       "      <th></th>\n",
       "      <th>v1</th>\n",
       "      <th>text</th>\n",
       "      <th>text_length</th>\n",
       "      <th>text_clean</th>\n",
       "    </tr>\n",
       "  </thead>\n",
       "  <tbody>\n",
       "    <tr>\n",
       "      <th>0</th>\n",
       "      <td>0</td>\n",
       "      <td>Go until jurong point, crazy.. Available only ...</td>\n",
       "      <td>111</td>\n",
       "      <td>jurong point crazy available bugis n great wor...</td>\n",
       "    </tr>\n",
       "    <tr>\n",
       "      <th>1</th>\n",
       "      <td>0</td>\n",
       "      <td>Ok lar... Joking wif u oni...</td>\n",
       "      <td>29</td>\n",
       "      <td>ok lar joke wif u oni</td>\n",
       "    </tr>\n",
       "    <tr>\n",
       "      <th>2</th>\n",
       "      <td>1</td>\n",
       "      <td>Free entry in 2 a wkly comp to win FA Cup fina...</td>\n",
       "      <td>155</td>\n",
       "      <td>free entry 2 wkly comp win fa cup final tkts 2...</td>\n",
       "    </tr>\n",
       "    <tr>\n",
       "      <th>3</th>\n",
       "      <td>0</td>\n",
       "      <td>U dun say so early hor... U c already then say...</td>\n",
       "      <td>49</td>\n",
       "      <td>u dun early hor u c</td>\n",
       "    </tr>\n",
       "    <tr>\n",
       "      <th>4</th>\n",
       "      <td>0</td>\n",
       "      <td>Nah I don't think he goes to usf, he lives aro...</td>\n",
       "      <td>61</td>\n",
       "      <td>nah don t think usf live</td>\n",
       "    </tr>\n",
       "    <tr>\n",
       "      <th>...</th>\n",
       "      <td>...</td>\n",
       "      <td>...</td>\n",
       "      <td>...</td>\n",
       "      <td>...</td>\n",
       "    </tr>\n",
       "    <tr>\n",
       "      <th>5538</th>\n",
       "      <td>1</td>\n",
       "      <td>This is the 2nd time we have tried 2 contact u...</td>\n",
       "      <td>161</td>\n",
       "      <td>2nd time try 2 contact u u win 750 pound prize...</td>\n",
       "    </tr>\n",
       "    <tr>\n",
       "      <th>5539</th>\n",
       "      <td>0</td>\n",
       "      <td>Will Ì_ b going to esplanade fr home?</td>\n",
       "      <td>37</td>\n",
       "      <td>_ b esplanade fr home</td>\n",
       "    </tr>\n",
       "    <tr>\n",
       "      <th>5540</th>\n",
       "      <td>0</td>\n",
       "      <td>Pity, * was in mood for that. So...any other s...</td>\n",
       "      <td>57</td>\n",
       "      <td>pity mood suggestion</td>\n",
       "    </tr>\n",
       "    <tr>\n",
       "      <th>5541</th>\n",
       "      <td>0</td>\n",
       "      <td>The guy did some bitching but I acted like i'd...</td>\n",
       "      <td>125</td>\n",
       "      <td>guy bitch act like d interested buy week free</td>\n",
       "    </tr>\n",
       "    <tr>\n",
       "      <th>5542</th>\n",
       "      <td>0</td>\n",
       "      <td>Rofl. Its true to its name</td>\n",
       "      <td>26</td>\n",
       "      <td>rofl true</td>\n",
       "    </tr>\n",
       "  </tbody>\n",
       "</table>\n",
       "<p>5543 rows × 4 columns</p>\n",
       "</div>"
      ],
      "text/plain": [
       "      v1                                               text  text_length  \\\n",
       "0      0  Go until jurong point, crazy.. Available only ...          111   \n",
       "1      0                      Ok lar... Joking wif u oni...           29   \n",
       "2      1  Free entry in 2 a wkly comp to win FA Cup fina...          155   \n",
       "3      0  U dun say so early hor... U c already then say...           49   \n",
       "4      0  Nah I don't think he goes to usf, he lives aro...           61   \n",
       "...   ..                                                ...          ...   \n",
       "5538   1  This is the 2nd time we have tried 2 contact u...          161   \n",
       "5539   0              Will Ì_ b going to esplanade fr home?           37   \n",
       "5540   0  Pity, * was in mood for that. So...any other s...           57   \n",
       "5541   0  The guy did some bitching but I acted like i'd...          125   \n",
       "5542   0                         Rofl. Its true to its name           26   \n",
       "\n",
       "                                             text_clean  \n",
       "0     jurong point crazy available bugis n great wor...  \n",
       "1                                 ok lar joke wif u oni  \n",
       "2     free entry 2 wkly comp win fa cup final tkts 2...  \n",
       "3                                   u dun early hor u c  \n",
       "4                              nah don t think usf live  \n",
       "...                                                 ...  \n",
       "5538  2nd time try 2 contact u u win 750 pound prize...  \n",
       "5539                              _ b esplanade fr home  \n",
       "5540                               pity mood suggestion  \n",
       "5541      guy bitch act like d interested buy week free  \n",
       "5542                                          rofl true  \n",
       "\n",
       "[5543 rows x 4 columns]"
      ]
     },
     "execution_count": 273,
     "metadata": {},
     "output_type": "execute_result"
    }
   ],
   "source": [
    "# si besoin installer\n",
    "# python -m spacy download en_core_web_md\n",
    "\n",
    "# Lemmatisation et STOP_WORDS\n",
    "df['text_clean'] = df['text_clean'].apply(lambda x: \" \".join([token.lemma_ for token in nlp(x) if (token.lemma_ not in STOP_WORDS) & (token.text not in STOP_WORDS)]))\n",
    "\n",
    "df"
   ]
  },
  {
   "cell_type": "code",
   "execution_count": 274,
   "metadata": {},
   "outputs": [
    {
     "data": {
      "text/html": [
       "<div>\n",
       "<style scoped>\n",
       "    .dataframe tbody tr th:only-of-type {\n",
       "        vertical-align: middle;\n",
       "    }\n",
       "\n",
       "    .dataframe tbody tr th {\n",
       "        vertical-align: top;\n",
       "    }\n",
       "\n",
       "    .dataframe thead th {\n",
       "        text-align: right;\n",
       "    }\n",
       "</style>\n",
       "<table border=\"1\" class=\"dataframe\">\n",
       "  <thead>\n",
       "    <tr style=\"text-align: right;\">\n",
       "      <th></th>\n",
       "      <th>v1</th>\n",
       "      <th>text</th>\n",
       "      <th>text_length</th>\n",
       "      <th>text_clean</th>\n",
       "      <th>text_encoded</th>\n",
       "      <th>len_txt</th>\n",
       "    </tr>\n",
       "  </thead>\n",
       "  <tbody>\n",
       "    <tr>\n",
       "      <th>0</th>\n",
       "      <td>0</td>\n",
       "      <td>Go until jurong point, crazy.. Available only ...</td>\n",
       "      <td>111</td>\n",
       "      <td>jurong point crazy available bugis n great wor...</td>\n",
       "      <td>[3584, 259, 473, 443, 995, 37, 58, 214, 996, 7...</td>\n",
       "      <td>14</td>\n",
       "    </tr>\n",
       "    <tr>\n",
       "      <th>1</th>\n",
       "      <td>0</td>\n",
       "      <td>Ok lar... Joking wif u oni...</td>\n",
       "      <td>29</td>\n",
       "      <td>ok lar joke wif u oni</td>\n",
       "      <td>[11, 223, 474, 314, 1, 1521]</td>\n",
       "      <td>6</td>\n",
       "    </tr>\n",
       "    <tr>\n",
       "      <th>2</th>\n",
       "      <td>1</td>\n",
       "      <td>Free entry in 2 a wkly comp to win FA Cup fina...</td>\n",
       "      <td>155</td>\n",
       "      <td>free entry 2 wkly comp win fa cup final tkts 2...</td>\n",
       "      <td>[14, 323, 3, 564, 660, 27, 1522, 896, 444, 238...</td>\n",
       "      <td>27</td>\n",
       "    </tr>\n",
       "    <tr>\n",
       "      <th>3</th>\n",
       "      <td>0</td>\n",
       "      <td>U dun say so early hor... U c already then say...</td>\n",
       "      <td>49</td>\n",
       "      <td>u dun early hor u c</td>\n",
       "      <td>[1, 136, 167, 2387, 1, 51]</td>\n",
       "      <td>6</td>\n",
       "    </tr>\n",
       "    <tr>\n",
       "      <th>4</th>\n",
       "      <td>0</td>\n",
       "      <td>Nah I don't think he goes to usf, he lives aro...</td>\n",
       "      <td>61</td>\n",
       "      <td>nah don t think usf live</td>\n",
       "      <td>[759, 30, 5, 24, 707, 143]</td>\n",
       "      <td>6</td>\n",
       "    </tr>\n",
       "  </tbody>\n",
       "</table>\n",
       "</div>"
      ],
      "text/plain": [
       "   v1                                               text  text_length  \\\n",
       "0   0  Go until jurong point, crazy.. Available only ...          111   \n",
       "1   0                      Ok lar... Joking wif u oni...           29   \n",
       "2   1  Free entry in 2 a wkly comp to win FA Cup fina...          155   \n",
       "3   0  U dun say so early hor... U c already then say...           49   \n",
       "4   0  Nah I don't think he goes to usf, he lives aro...           61   \n",
       "\n",
       "                                          text_clean  \\\n",
       "0  jurong point crazy available bugis n great wor...   \n",
       "1                              ok lar joke wif u oni   \n",
       "2  free entry 2 wkly comp win fa cup final tkts 2...   \n",
       "3                                u dun early hor u c   \n",
       "4                           nah don t think usf live   \n",
       "\n",
       "                                        text_encoded  len_txt  \n",
       "0  [3584, 259, 473, 443, 995, 37, 58, 214, 996, 7...       14  \n",
       "1                       [11, 223, 474, 314, 1, 1521]        6  \n",
       "2  [14, 323, 3, 564, 660, 27, 1522, 896, 444, 238...       27  \n",
       "3                         [1, 136, 167, 2387, 1, 51]        6  \n",
       "4                         [759, 30, 5, 24, 707, 143]        6  "
      ]
     },
     "execution_count": 274,
     "metadata": {},
     "output_type": "execute_result"
    }
   ],
   "source": [
    "tokenizer = tf.keras.preprocessing.text.Tokenizer() \n",
    "tokenizer.fit_on_texts(df.text_clean)\n",
    "\n",
    "df[\"text_encoded\"] = tokenizer.texts_to_sequences(df.text_clean)\n",
    "\n",
    "df[\"len_txt\"] = df[\"text_encoded\"].apply(lambda x: len(x))\n",
    "df = df[df[\"len_txt\"] != 0]\n",
    "\n",
    "df.head()"
   ]
  },
  {
   "cell_type": "code",
   "execution_count": 275,
   "metadata": {},
   "outputs": [
    {
     "data": {
      "text/plain": [
       "(5524, 6)"
      ]
     },
     "execution_count": 275,
     "metadata": {},
     "output_type": "execute_result"
    }
   ],
   "source": [
    "df.shape\n",
    "# Suppression de 19 lignes avec un len_txt = 0"
   ]
  },
  {
   "cell_type": "code",
   "execution_count": 276,
   "metadata": {},
   "outputs": [
    {
     "data": {
      "text/plain": [
       "(5524, 76)"
      ]
     },
     "execution_count": 276,
     "metadata": {},
     "output_type": "execute_result"
    }
   ],
   "source": [
    "text_pad = tf.keras.preprocessing.sequence.pad_sequences(df.text_encoded, padding=\"post\")\n",
    "text_pad.shape"
   ]
  },
  {
   "cell_type": "code",
   "execution_count": 277,
   "metadata": {},
   "outputs": [],
   "source": [
    "x_train, x_test, y_train, y_test = train_test_split(text_pad, df.v1, test_size=0.1, random_state=33, stratify=df.v1)\n",
    "\n",
    "x_train, x_val, y_train, y_val = train_test_split(x_train, y_train, test_size=0.1, random_state=33, stratify=y_train)"
   ]
  },
  {
   "cell_type": "code",
   "execution_count": 278,
   "metadata": {},
   "outputs": [],
   "source": [
    "train_ds = tf.data.Dataset.from_tensor_slices((x_train, y_train))\n",
    "test_ds = tf.data.Dataset.from_tensor_slices((x_test, y_test))\n",
    "val_ds = tf.data.Dataset.from_tensor_slices((x_val, y_val))\n",
    "\n",
    "train_batch = train_ds.shuffle(len(train_ds)).batch(64)\n",
    "test_batch = test_ds.shuffle(len(test_ds)).batch(64)\n",
    "val_batch = val_ds.shuffle(len(val_ds)).batch(64)"
   ]
  },
  {
   "cell_type": "code",
   "execution_count": 279,
   "metadata": {},
   "outputs": [
    {
     "name": "stdout",
     "output_type": "stream",
     "text": [
      "tf.Tensor(\n",
      "[[   2  144 2849 ...    0    0    0]\n",
      " [   2    2 2707 ...    0    0    0]\n",
      " [   1 2215 1529 ...    0    0    0]\n",
      " ...\n",
      " [  67    0    0 ...    0    0    0]\n",
      " [ 415  277    0 ...    0    0    0]\n",
      " [  52   15 1199 ...    0    0    0]], shape=(64, 76), dtype=int32) tf.Tensor(\n",
      "[0 0 0 0 0 0 0 0 0 0 1 0 0 0 0 0 0 0 0 0 0 0 0 0 1 0 0 0 0 0 0 0 1 0 1 0 0\n",
      " 0 0 0 0 1 0 0 1 0 0 0 0 0 0 0 0 1 0 0 0 0 0 0 0 0 0 0], shape=(64,), dtype=int64)\n"
     ]
    }
   ],
   "source": [
    "# check du contenu d'un batch\n",
    "\n",
    "for text, label in train_batch.take(1):\n",
    "  print(text, label)"
   ]
  },
  {
   "cell_type": "code",
   "execution_count": 280,
   "metadata": {},
   "outputs": [],
   "source": [
    "# Taux d'apprentissage decroissant\n",
    "initial_learning_rate = 0.001\n",
    "lr_schedule = ExponentialDecay(\n",
    "    initial_learning_rate,\n",
    "    decay_steps=1000,\n",
    "    decay_rate=0.96,\n",
    "    staircase=True)"
   ]
  },
  {
   "cell_type": "code",
   "execution_count": 281,
   "metadata": {},
   "outputs": [],
   "source": [
    "early_stopping = EarlyStopping(\n",
    "        monitor='val_loss',\n",
    "        patience=5,\n",
    "        restore_best_weights=True ,\n",
    "        verbose=1\n",
    ")"
   ]
  },
  {
   "cell_type": "markdown",
   "metadata": {},
   "source": [
    "## Baseline"
   ]
  },
  {
   "cell_type": "markdown",
   "metadata": {},
   "source": [
    "### Embedding simple\n",
    "\n",
    "Modèles testés :\n",
    "\n",
    "* 3 couches Dense avec 20 epochs:\n",
    "    * Couche de prédiction avec sigmoid : ```Epoch 16: early stopping Restoring model weights from the end of the best epoch: 11.```, f1 macro avg = 0.99\n",
    "    * Couche de prédiction avec softmax : ```Epoch 15: early stopping Restoring model weights from the end of the best epoch: 10.```, f1 macro avg = 0.99\n",
    "* 5 couches Dense avec 20 epochs:\n",
    "    * Couche de prédiction avec sigmoid : ```Epoch 17: early stopping Restoring model weights from the end of the best epoch: 12.```, f1 macro avg = 0.99\n",
    "    * Couche de prédiction avec softmax : ```Epoch 20: early stopping Restoring model weights from the end of the best epoch: 15.```, f1 macro avg = 0.98\n",
    "\n",
    "\n",
    "Resultat: Juste une petite difference sur le f1 macro avg de 5 couches softmax"
   ]
  },
  {
   "cell_type": "code",
   "execution_count": 282,
   "metadata": {},
   "outputs": [],
   "source": [
    "output_dim = 128\n",
    "vocab_size = len(tokenizer.word_counts)\n",
    "len_texts = text_pad.shape[1]\n",
    "\n",
    "model_embedding = Sequential()\n",
    "model_embedding.add(Embedding(input_dim=vocab_size + 1, output_dim=output_dim, name=\"embedding\")) # the embedding layer\n",
    "  # the input dim needs to be equal to the size of the vocabulary + 1 (because of\n",
    "  # the zero padding)\n",
    "model_embedding.add(GlobalAveragePooling1D())\n",
    "# along each dimension of the representation space.\n",
    "model_embedding.add(Dense(len_texts, activation='relu')) # a dense layer\n",
    "model_embedding.add(Dense(80, activation='relu')) # a dense layer\n",
    "model_embedding.add(Dense(20, activation='relu')) # a dense layer\n",
    "model_embedding.add(Dense(2, activation='softmax')) # the prediction layer\n",
    "\n",
    "model_embedding.compile(optimizer=Adam(learning_rate=lr_schedule),\n",
    "              loss=tf.keras.losses.SparseCategoricalCrossentropy(),\n",
    "              metrics=[tf.keras.metrics.SparseCategoricalAccuracy()])"
   ]
  },
  {
   "cell_type": "code",
   "execution_count": 283,
   "metadata": {},
   "outputs": [
    {
     "name": "stdout",
     "output_type": "stream",
     "text": [
      "Epoch 1/20\n",
      "\u001b[1m70/70\u001b[0m \u001b[32m━━━━━━━━━━━━━━━━━━━━\u001b[0m\u001b[37m\u001b[0m \u001b[1m2s\u001b[0m 13ms/step - loss: 0.4377 - sparse_categorical_accuracy: 0.8572 - val_loss: 0.3622 - val_sparse_categorical_accuracy: 0.8655\n",
      "Epoch 2/20\n",
      "\u001b[1m70/70\u001b[0m \u001b[32m━━━━━━━━━━━━━━━━━━━━\u001b[0m\u001b[37m\u001b[0m \u001b[1m1s\u001b[0m 11ms/step - loss: 0.3814 - sparse_categorical_accuracy: 0.8543 - val_loss: 0.3447 - val_sparse_categorical_accuracy: 0.8655\n",
      "Epoch 3/20\n",
      "\u001b[1m70/70\u001b[0m \u001b[32m━━━━━━━━━━━━━━━━━━━━\u001b[0m\u001b[37m\u001b[0m \u001b[1m1s\u001b[0m 10ms/step - loss: 0.3253 - sparse_categorical_accuracy: 0.8691 - val_loss: 0.1672 - val_sparse_categorical_accuracy: 0.9297\n",
      "Epoch 4/20\n",
      "\u001b[1m70/70\u001b[0m \u001b[32m━━━━━━━━━━━━━━━━━━━━\u001b[0m\u001b[37m\u001b[0m \u001b[1m1s\u001b[0m 10ms/step - loss: 0.1279 - sparse_categorical_accuracy: 0.9638 - val_loss: 0.0691 - val_sparse_categorical_accuracy: 0.9880\n",
      "Epoch 5/20\n",
      "\u001b[1m70/70\u001b[0m \u001b[32m━━━━━━━━━━━━━━━━━━━━\u001b[0m\u001b[37m\u001b[0m \u001b[1m1s\u001b[0m 10ms/step - loss: 0.0721 - sparse_categorical_accuracy: 0.9806 - val_loss: 0.0482 - val_sparse_categorical_accuracy: 0.9880\n",
      "Epoch 6/20\n",
      "\u001b[1m70/70\u001b[0m \u001b[32m━━━━━━━━━━━━━━━━━━━━\u001b[0m\u001b[37m\u001b[0m \u001b[1m1s\u001b[0m 10ms/step - loss: 0.0516 - sparse_categorical_accuracy: 0.9841 - val_loss: 0.0404 - val_sparse_categorical_accuracy: 0.9920\n",
      "Epoch 7/20\n",
      "\u001b[1m70/70\u001b[0m \u001b[32m━━━━━━━━━━━━━━━━━━━━\u001b[0m\u001b[37m\u001b[0m \u001b[1m1s\u001b[0m 10ms/step - loss: 0.0411 - sparse_categorical_accuracy: 0.9893 - val_loss: 0.0412 - val_sparse_categorical_accuracy: 0.9880\n",
      "Epoch 8/20\n",
      "\u001b[1m70/70\u001b[0m \u001b[32m━━━━━━━━━━━━━━━━━━━━\u001b[0m\u001b[37m\u001b[0m \u001b[1m1s\u001b[0m 10ms/step - loss: 0.0209 - sparse_categorical_accuracy: 0.9950 - val_loss: 0.0939 - val_sparse_categorical_accuracy: 0.9759\n",
      "Epoch 9/20\n",
      "\u001b[1m70/70\u001b[0m \u001b[32m━━━━━━━━━━━━━━━━━━━━\u001b[0m\u001b[37m\u001b[0m \u001b[1m1s\u001b[0m 10ms/step - loss: 0.0250 - sparse_categorical_accuracy: 0.9919 - val_loss: 0.0489 - val_sparse_categorical_accuracy: 0.9859\n",
      "Epoch 10/20\n",
      "\u001b[1m70/70\u001b[0m \u001b[32m━━━━━━━━━━━━━━━━━━━━\u001b[0m\u001b[37m\u001b[0m \u001b[1m1s\u001b[0m 10ms/step - loss: 0.0276 - sparse_categorical_accuracy: 0.9916 - val_loss: 0.0334 - val_sparse_categorical_accuracy: 0.9920\n",
      "Epoch 11/20\n",
      "\u001b[1m70/70\u001b[0m \u001b[32m━━━━━━━━━━━━━━━━━━━━\u001b[0m\u001b[37m\u001b[0m \u001b[1m1s\u001b[0m 12ms/step - loss: 0.0088 - sparse_categorical_accuracy: 0.9974 - val_loss: 0.0357 - val_sparse_categorical_accuracy: 0.9920\n",
      "Epoch 12/20\n",
      "\u001b[1m70/70\u001b[0m \u001b[32m━━━━━━━━━━━━━━━━━━━━\u001b[0m\u001b[37m\u001b[0m \u001b[1m1s\u001b[0m 11ms/step - loss: 0.0095 - sparse_categorical_accuracy: 0.9984 - val_loss: 0.0868 - val_sparse_categorical_accuracy: 0.9779\n",
      "Epoch 13/20\n",
      "\u001b[1m70/70\u001b[0m \u001b[32m━━━━━━━━━━━━━━━━━━━━\u001b[0m\u001b[37m\u001b[0m \u001b[1m1s\u001b[0m 10ms/step - loss: 0.0189 - sparse_categorical_accuracy: 0.9943 - val_loss: 0.0352 - val_sparse_categorical_accuracy: 0.9920\n",
      "Epoch 14/20\n",
      "\u001b[1m70/70\u001b[0m \u001b[32m━━━━━━━━━━━━━━━━━━━━\u001b[0m\u001b[37m\u001b[0m \u001b[1m1s\u001b[0m 10ms/step - loss: 0.0104 - sparse_categorical_accuracy: 0.9971 - val_loss: 0.0517 - val_sparse_categorical_accuracy: 0.9900\n",
      "Epoch 15/20\n",
      "\u001b[1m70/70\u001b[0m \u001b[32m━━━━━━━━━━━━━━━━━━━━\u001b[0m\u001b[37m\u001b[0m \u001b[1m1s\u001b[0m 10ms/step - loss: 0.0095 - sparse_categorical_accuracy: 0.9983 - val_loss: 0.0482 - val_sparse_categorical_accuracy: 0.9920\n",
      "Epoch 15: early stopping\n",
      "Restoring model weights from the end of the best epoch: 10.\n"
     ]
    }
   ],
   "source": [
    "history = model_embedding.fit(\n",
    "    train_batch,\n",
    "    validation_data=val_batch,\n",
    "    callbacks=[early_stopping],\n",
    "    epochs=20)"
   ]
  },
  {
   "cell_type": "code",
   "execution_count": 284,
   "metadata": {},
   "outputs": [
    {
     "data": {
      "text/html": [
       "<pre style=\"white-space:pre;overflow-x:auto;line-height:normal;font-family:Menlo,'DejaVu Sans Mono',consolas,'Courier New',monospace\"><span style=\"font-weight: bold\">Model: \"sequential_30\"</span>\n",
       "</pre>\n"
      ],
      "text/plain": [
       "\u001b[1mModel: \"sequential_30\"\u001b[0m\n"
      ]
     },
     "metadata": {},
     "output_type": "display_data"
    },
    {
     "data": {
      "text/html": [
       "<pre style=\"white-space:pre;overflow-x:auto;line-height:normal;font-family:Menlo,'DejaVu Sans Mono',consolas,'Courier New',monospace\">┏━━━━━━━━━━━━━━━━━━━━━━━━━━━━━━━━━┳━━━━━━━━━━━━━━━━━━━━━━━━┳━━━━━━━━━━━━━━━┓\n",
       "┃<span style=\"font-weight: bold\"> Layer (type)                    </span>┃<span style=\"font-weight: bold\"> Output Shape           </span>┃<span style=\"font-weight: bold\">       Param # </span>┃\n",
       "┡━━━━━━━━━━━━━━━━━━━━━━━━━━━━━━━━━╇━━━━━━━━━━━━━━━━━━━━━━━━╇━━━━━━━━━━━━━━━┩\n",
       "│ embedding (<span style=\"color: #0087ff; text-decoration-color: #0087ff\">Embedding</span>)           │ (<span style=\"color: #00d7ff; text-decoration-color: #00d7ff\">None</span>, <span style=\"color: #00af00; text-decoration-color: #00af00\">76</span>, <span style=\"color: #00af00; text-decoration-color: #00af00\">128</span>)        │       <span style=\"color: #00af00; text-decoration-color: #00af00\">948,992</span> │\n",
       "├─────────────────────────────────┼────────────────────────┼───────────────┤\n",
       "│ global_average_pooling1d_11     │ (<span style=\"color: #00d7ff; text-decoration-color: #00d7ff\">None</span>, <span style=\"color: #00af00; text-decoration-color: #00af00\">128</span>)            │             <span style=\"color: #00af00; text-decoration-color: #00af00\">0</span> │\n",
       "│ (<span style=\"color: #0087ff; text-decoration-color: #0087ff\">GlobalAveragePooling1D</span>)        │                        │               │\n",
       "├─────────────────────────────────┼────────────────────────┼───────────────┤\n",
       "│ dense_93 (<span style=\"color: #0087ff; text-decoration-color: #0087ff\">Dense</span>)                │ (<span style=\"color: #00d7ff; text-decoration-color: #00d7ff\">None</span>, <span style=\"color: #00af00; text-decoration-color: #00af00\">76</span>)             │         <span style=\"color: #00af00; text-decoration-color: #00af00\">9,804</span> │\n",
       "├─────────────────────────────────┼────────────────────────┼───────────────┤\n",
       "│ dense_94 (<span style=\"color: #0087ff; text-decoration-color: #0087ff\">Dense</span>)                │ (<span style=\"color: #00d7ff; text-decoration-color: #00d7ff\">None</span>, <span style=\"color: #00af00; text-decoration-color: #00af00\">80</span>)             │         <span style=\"color: #00af00; text-decoration-color: #00af00\">6,160</span> │\n",
       "├─────────────────────────────────┼────────────────────────┼───────────────┤\n",
       "│ dense_95 (<span style=\"color: #0087ff; text-decoration-color: #0087ff\">Dense</span>)                │ (<span style=\"color: #00d7ff; text-decoration-color: #00d7ff\">None</span>, <span style=\"color: #00af00; text-decoration-color: #00af00\">20</span>)             │         <span style=\"color: #00af00; text-decoration-color: #00af00\">1,620</span> │\n",
       "├─────────────────────────────────┼────────────────────────┼───────────────┤\n",
       "│ dense_96 (<span style=\"color: #0087ff; text-decoration-color: #0087ff\">Dense</span>)                │ (<span style=\"color: #00d7ff; text-decoration-color: #00d7ff\">None</span>, <span style=\"color: #00af00; text-decoration-color: #00af00\">2</span>)              │            <span style=\"color: #00af00; text-decoration-color: #00af00\">42</span> │\n",
       "└─────────────────────────────────┴────────────────────────┴───────────────┘\n",
       "</pre>\n"
      ],
      "text/plain": [
       "┏━━━━━━━━━━━━━━━━━━━━━━━━━━━━━━━━━┳━━━━━━━━━━━━━━━━━━━━━━━━┳━━━━━━━━━━━━━━━┓\n",
       "┃\u001b[1m \u001b[0m\u001b[1mLayer (type)                   \u001b[0m\u001b[1m \u001b[0m┃\u001b[1m \u001b[0m\u001b[1mOutput Shape          \u001b[0m\u001b[1m \u001b[0m┃\u001b[1m \u001b[0m\u001b[1m      Param #\u001b[0m\u001b[1m \u001b[0m┃\n",
       "┡━━━━━━━━━━━━━━━━━━━━━━━━━━━━━━━━━╇━━━━━━━━━━━━━━━━━━━━━━━━╇━━━━━━━━━━━━━━━┩\n",
       "│ embedding (\u001b[38;5;33mEmbedding\u001b[0m)           │ (\u001b[38;5;45mNone\u001b[0m, \u001b[38;5;34m76\u001b[0m, \u001b[38;5;34m128\u001b[0m)        │       \u001b[38;5;34m948,992\u001b[0m │\n",
       "├─────────────────────────────────┼────────────────────────┼───────────────┤\n",
       "│ global_average_pooling1d_11     │ (\u001b[38;5;45mNone\u001b[0m, \u001b[38;5;34m128\u001b[0m)            │             \u001b[38;5;34m0\u001b[0m │\n",
       "│ (\u001b[38;5;33mGlobalAveragePooling1D\u001b[0m)        │                        │               │\n",
       "├─────────────────────────────────┼────────────────────────┼───────────────┤\n",
       "│ dense_93 (\u001b[38;5;33mDense\u001b[0m)                │ (\u001b[38;5;45mNone\u001b[0m, \u001b[38;5;34m76\u001b[0m)             │         \u001b[38;5;34m9,804\u001b[0m │\n",
       "├─────────────────────────────────┼────────────────────────┼───────────────┤\n",
       "│ dense_94 (\u001b[38;5;33mDense\u001b[0m)                │ (\u001b[38;5;45mNone\u001b[0m, \u001b[38;5;34m80\u001b[0m)             │         \u001b[38;5;34m6,160\u001b[0m │\n",
       "├─────────────────────────────────┼────────────────────────┼───────────────┤\n",
       "│ dense_95 (\u001b[38;5;33mDense\u001b[0m)                │ (\u001b[38;5;45mNone\u001b[0m, \u001b[38;5;34m20\u001b[0m)             │         \u001b[38;5;34m1,620\u001b[0m │\n",
       "├─────────────────────────────────┼────────────────────────┼───────────────┤\n",
       "│ dense_96 (\u001b[38;5;33mDense\u001b[0m)                │ (\u001b[38;5;45mNone\u001b[0m, \u001b[38;5;34m2\u001b[0m)              │            \u001b[38;5;34m42\u001b[0m │\n",
       "└─────────────────────────────────┴────────────────────────┴───────────────┘\n"
      ]
     },
     "metadata": {},
     "output_type": "display_data"
    },
    {
     "data": {
      "text/html": [
       "<pre style=\"white-space:pre;overflow-x:auto;line-height:normal;font-family:Menlo,'DejaVu Sans Mono',consolas,'Courier New',monospace\"><span style=\"font-weight: bold\"> Total params: </span><span style=\"color: #00af00; text-decoration-color: #00af00\">2,899,855</span> (11.06 MB)\n",
       "</pre>\n"
      ],
      "text/plain": [
       "\u001b[1m Total params: \u001b[0m\u001b[38;5;34m2,899,855\u001b[0m (11.06 MB)\n"
      ]
     },
     "metadata": {},
     "output_type": "display_data"
    },
    {
     "data": {
      "text/html": [
       "<pre style=\"white-space:pre;overflow-x:auto;line-height:normal;font-family:Menlo,'DejaVu Sans Mono',consolas,'Courier New',monospace\"><span style=\"font-weight: bold\"> Trainable params: </span><span style=\"color: #00af00; text-decoration-color: #00af00\">966,618</span> (3.69 MB)\n",
       "</pre>\n"
      ],
      "text/plain": [
       "\u001b[1m Trainable params: \u001b[0m\u001b[38;5;34m966,618\u001b[0m (3.69 MB)\n"
      ]
     },
     "metadata": {},
     "output_type": "display_data"
    },
    {
     "data": {
      "text/html": [
       "<pre style=\"white-space:pre;overflow-x:auto;line-height:normal;font-family:Menlo,'DejaVu Sans Mono',consolas,'Courier New',monospace\"><span style=\"font-weight: bold\"> Non-trainable params: </span><span style=\"color: #00af00; text-decoration-color: #00af00\">0</span> (0.00 B)\n",
       "</pre>\n"
      ],
      "text/plain": [
       "\u001b[1m Non-trainable params: \u001b[0m\u001b[38;5;34m0\u001b[0m (0.00 B)\n"
      ]
     },
     "metadata": {},
     "output_type": "display_data"
    },
    {
     "data": {
      "text/html": [
       "<pre style=\"white-space:pre;overflow-x:auto;line-height:normal;font-family:Menlo,'DejaVu Sans Mono',consolas,'Courier New',monospace\"><span style=\"font-weight: bold\"> Optimizer params: </span><span style=\"color: #00af00; text-decoration-color: #00af00\">1,933,237</span> (7.37 MB)\n",
       "</pre>\n"
      ],
      "text/plain": [
       "\u001b[1m Optimizer params: \u001b[0m\u001b[38;5;34m1,933,237\u001b[0m (7.37 MB)\n"
      ]
     },
     "metadata": {},
     "output_type": "display_data"
    }
   ],
   "source": [
    "model_embedding.summary()"
   ]
  },
  {
   "cell_type": "code",
   "execution_count": 285,
   "metadata": {},
   "outputs": [
    {
     "name": "stdout",
     "output_type": "stream",
     "text": [
      "\u001b[1m18/18\u001b[0m \u001b[32m━━━━━━━━━━━━━━━━━━━━\u001b[0m\u001b[37m\u001b[0m \u001b[1m0s\u001b[0m 9ms/step\n"
     ]
    },
    {
     "data": {
      "image/png": "[encoded data removed]",
      "text/plain": [
       "<Figure size 640x480 with 2 Axes>"
      ]
     },
     "metadata": {},
     "output_type": "display_data"
    },
    {
     "name": "stdout",
     "output_type": "stream",
     "text": [
      "              precision    recall  f1-score   support\n",
      "\n",
      "           0       1.00      1.00      1.00       478\n",
      "           1       0.99      0.97      0.98        75\n",
      "\n",
      "    accuracy                           0.99       553\n",
      "   macro avg       0.99      0.99      0.99       553\n",
      "weighted avg       0.99      0.99      0.99       553\n",
      "\n"
     ]
    }
   ],
   "source": [
    "# Evaluate the Model\n",
    "predictions = model_embedding.predict(x_test)\n",
    "y_pred = np.argmax(predictions, axis=1)\n",
    "\n",
    "cm = confusion_matrix(y_test, y_pred)\n",
    "disp = ConfusionMatrixDisplay(confusion_matrix=cm, display_labels=[\"Ham\", \"Spam\"])\n",
    "disp.plot(cmap=plt.cm.Blues)\n",
    "plt.title(\"Confusion Matrix\")\n",
    "plt.show()\n",
    "\n",
    "print(classification_report(y_test, y_pred))"
   ]
  },
  {
   "cell_type": "code",
   "execution_count": 286,
   "metadata": {},
   "outputs": [
    {
     "data": {
      "image/png": "[encoded data removed]",
      "text/plain": [
       "<Figure size 640x480 with 1 Axes>"
      ]
     },
     "metadata": {},
     "output_type": "display_data"
    }
   ],
   "source": [
    "plt.plot(history.history[\"loss\"], color=\"b\", label='Train loss')\n",
    "plt.plot(history.history[\"val_loss\"], color=\"r\", label='Val loss')\n",
    "plt.ylabel(\"loss\")\n",
    "plt.xlabel(\"Epochs\")\n",
    "plt.legend()\n",
    "plt.show()"
   ]
  },
  {
   "cell_type": "code",
   "execution_count": 287,
   "metadata": {},
   "outputs": [
    {
     "data": {
      "image/png": "[encoded data removed]",
      "text/plain": [
       "<Figure size 640x480 with 1 Axes>"
      ]
     },
     "metadata": {},
     "output_type": "display_data"
    }
   ],
   "source": [
    "plt.plot(history.history[\"sparse_categorical_accuracy\"], color=\"b\", label='Train accuracy')\n",
    "plt.plot(history.history[\"val_sparse_categorical_accuracy\"], color=\"r\", label='Val accuracy')\n",
    "plt.ylabel(\"sparse_categorical_accuracy\")\n",
    "plt.xlabel(\"Epochs\")\n",
    "plt.legend()\n",
    "plt.show()"
   ]
  },
  {
   "cell_type": "code",
   "execution_count": 288,
   "metadata": {},
   "outputs": [],
   "source": [
    "model_embedding.save('./model/model_embedding.keras')"
   ]
  },
  {
   "cell_type": "markdown",
   "metadata": {},
   "source": [
    "----------------------------------------"
   ]
  },
  {
   "cell_type": "markdown",
   "metadata": {},
   "source": [
    "### SimpleRNN"
   ]
  },
  {
   "cell_type": "markdown",
   "metadata": {},
   "source": [
    "Plusieurs tests avec differents parametres, toujours une prediction = ham"
   ]
  },
  {
   "cell_type": "code",
   "execution_count": 289,
   "metadata": {},
   "outputs": [],
   "source": [
    "output_dim = 128\n",
    "vocab_size = len(tokenizer.word_counts)\n",
    "\n",
    "model_rnn = Sequential()\n",
    "model_rnn.add(Embedding(input_dim=vocab_size + 1, output_dim=output_dim, name=\"embedding\"))\n",
    "model_rnn.add(Bidirectional(SimpleRNN(32)))\n",
    "model_rnn.add(Dense(32, activation='relu'))\n",
    "model_rnn.add(Dropout(0.2))\n",
    "model_rnn.add(Dense(1, activation='sigmoid'))\n",
    "\n",
    "model_rnn.compile(optimizer=Adam(learning_rate=lr_schedule), loss=tf.keras.losses.BinaryCrossentropy (), metrics=[tf.keras.metrics.BinaryAccuracy()])"
   ]
  },
  {
   "cell_type": "code",
   "execution_count": 290,
   "metadata": {},
   "outputs": [
    {
     "name": "stdout",
     "output_type": "stream",
     "text": [
      "Epoch 1/30\n",
      "\u001b[1m70/70\u001b[0m \u001b[32m━━━━━━━━━━━━━━━━━━━━\u001b[0m\u001b[37m\u001b[0m \u001b[1m5s\u001b[0m 29ms/step - binary_accuracy: 0.8765 - loss: 0.3410 - val_binary_accuracy: 0.9799 - val_loss: 0.0693\n",
      "Epoch 2/30\n",
      "\u001b[1m70/70\u001b[0m \u001b[32m━━━━━━━━━━━━━━━━━━━━\u001b[0m\u001b[37m\u001b[0m \u001b[1m2s\u001b[0m 26ms/step - binary_accuracy: 0.9925 - loss: 0.0391 - val_binary_accuracy: 0.9799 - val_loss: 0.0639\n",
      "Epoch 3/30\n",
      "\u001b[1m70/70\u001b[0m \u001b[32m━━━━━━━━━━━━━━━━━━━━\u001b[0m\u001b[37m\u001b[0m \u001b[1m2s\u001b[0m 28ms/step - binary_accuracy: 0.9973 - loss: 0.0134 - val_binary_accuracy: 0.9859 - val_loss: 0.0537\n",
      "Epoch 4/30\n",
      "\u001b[1m70/70\u001b[0m \u001b[32m━━━━━━━━━━━━━━━━━━━━\u001b[0m\u001b[37m\u001b[0m \u001b[1m2s\u001b[0m 26ms/step - binary_accuracy: 0.9992 - loss: 0.0060 - val_binary_accuracy: 0.9920 - val_loss: 0.0360\n",
      "Epoch 5/30\n",
      "\u001b[1m70/70\u001b[0m \u001b[32m━━━━━━━━━━━━━━━━━━━━\u001b[0m\u001b[37m\u001b[0m \u001b[1m2s\u001b[0m 27ms/step - binary_accuracy: 0.9998 - loss: 0.0029 - val_binary_accuracy: 0.9900 - val_loss: 0.0416\n",
      "Epoch 6/30\n",
      "\u001b[1m70/70\u001b[0m \u001b[32m━━━━━━━━━━━━━━━━━━━━\u001b[0m\u001b[37m\u001b[0m \u001b[1m2s\u001b[0m 28ms/step - binary_accuracy: 0.9997 - loss: 0.0020 - val_binary_accuracy: 0.9880 - val_loss: 0.0681\n",
      "Epoch 7/30\n",
      "\u001b[1m70/70\u001b[0m \u001b[32m━━━━━━━━━━━━━━━━━━━━\u001b[0m\u001b[37m\u001b[0m \u001b[1m2s\u001b[0m 27ms/step - binary_accuracy: 0.9995 - loss: 0.0019 - val_binary_accuracy: 0.9880 - val_loss: 0.0553\n",
      "Epoch 8/30\n",
      "\u001b[1m70/70\u001b[0m \u001b[32m━━━━━━━━━━━━━━━━━━━━\u001b[0m\u001b[37m\u001b[0m \u001b[1m2s\u001b[0m 26ms/step - binary_accuracy: 0.9998 - loss: 8.9473e-04 - val_binary_accuracy: 0.9839 - val_loss: 0.0697\n",
      "Epoch 9/30\n",
      "\u001b[1m70/70\u001b[0m \u001b[32m━━━━━━━━━━━━━━━━━━━━\u001b[0m\u001b[37m\u001b[0m \u001b[1m2s\u001b[0m 26ms/step - binary_accuracy: 1.0000 - loss: 4.1272e-04 - val_binary_accuracy: 0.9900 - val_loss: 0.0560\n",
      "Epoch 9: early stopping\n",
      "Restoring model weights from the end of the best epoch: 4.\n"
     ]
    }
   ],
   "source": [
    "history_rnn = model_rnn.fit(\n",
    "    train_batch,\n",
    "    validation_data=val_batch,\n",
    "    callbacks=[early_stopping],\n",
    "    epochs=30\n",
    "    )"
   ]
  },
  {
   "cell_type": "code",
   "execution_count": 291,
   "metadata": {},
   "outputs": [
    {
     "data": {
      "text/html": [
       "<pre style=\"white-space:pre;overflow-x:auto;line-height:normal;font-family:Menlo,'DejaVu Sans Mono',consolas,'Courier New',monospace\"><span style=\"font-weight: bold\">Model: \"sequential_31\"</span>\n",
       "</pre>\n"
      ],
      "text/plain": [
       "\u001b[1mModel: \"sequential_31\"\u001b[0m\n"
      ]
     },
     "metadata": {},
     "output_type": "display_data"
    },
    {
     "data": {
      "text/html": [
       "<pre style=\"white-space:pre;overflow-x:auto;line-height:normal;font-family:Menlo,'DejaVu Sans Mono',consolas,'Courier New',monospace\">┏━━━━━━━━━━━━━━━━━━━━━━━━━━━━━━━━━┳━━━━━━━━━━━━━━━━━━━━━━━━┳━━━━━━━━━━━━━━━┓\n",
       "┃<span style=\"font-weight: bold\"> Layer (type)                    </span>┃<span style=\"font-weight: bold\"> Output Shape           </span>┃<span style=\"font-weight: bold\">       Param # </span>┃\n",
       "┡━━━━━━━━━━━━━━━━━━━━━━━━━━━━━━━━━╇━━━━━━━━━━━━━━━━━━━━━━━━╇━━━━━━━━━━━━━━━┩\n",
       "│ embedding (<span style=\"color: #0087ff; text-decoration-color: #0087ff\">Embedding</span>)           │ (<span style=\"color: #00d7ff; text-decoration-color: #00d7ff\">None</span>, <span style=\"color: #00af00; text-decoration-color: #00af00\">76</span>, <span style=\"color: #00af00; text-decoration-color: #00af00\">128</span>)        │       <span style=\"color: #00af00; text-decoration-color: #00af00\">948,992</span> │\n",
       "├─────────────────────────────────┼────────────────────────┼───────────────┤\n",
       "│ bidirectional_19                │ (<span style=\"color: #00d7ff; text-decoration-color: #00d7ff\">None</span>, <span style=\"color: #00af00; text-decoration-color: #00af00\">64</span>)             │        <span style=\"color: #00af00; text-decoration-color: #00af00\">10,304</span> │\n",
       "│ (<span style=\"color: #0087ff; text-decoration-color: #0087ff\">Bidirectional</span>)                 │                        │               │\n",
       "├─────────────────────────────────┼────────────────────────┼───────────────┤\n",
       "│ dense_97 (<span style=\"color: #0087ff; text-decoration-color: #0087ff\">Dense</span>)                │ (<span style=\"color: #00d7ff; text-decoration-color: #00d7ff\">None</span>, <span style=\"color: #00af00; text-decoration-color: #00af00\">32</span>)             │         <span style=\"color: #00af00; text-decoration-color: #00af00\">2,080</span> │\n",
       "├─────────────────────────────────┼────────────────────────┼───────────────┤\n",
       "│ dropout_12 (<span style=\"color: #0087ff; text-decoration-color: #0087ff\">Dropout</span>)            │ (<span style=\"color: #00d7ff; text-decoration-color: #00d7ff\">None</span>, <span style=\"color: #00af00; text-decoration-color: #00af00\">32</span>)             │             <span style=\"color: #00af00; text-decoration-color: #00af00\">0</span> │\n",
       "├─────────────────────────────────┼────────────────────────┼───────────────┤\n",
       "│ dense_98 (<span style=\"color: #0087ff; text-decoration-color: #0087ff\">Dense</span>)                │ (<span style=\"color: #00d7ff; text-decoration-color: #00d7ff\">None</span>, <span style=\"color: #00af00; text-decoration-color: #00af00\">1</span>)              │            <span style=\"color: #00af00; text-decoration-color: #00af00\">33</span> │\n",
       "└─────────────────────────────────┴────────────────────────┴───────────────┘\n",
       "</pre>\n"
      ],
      "text/plain": [
       "┏━━━━━━━━━━━━━━━━━━━━━━━━━━━━━━━━━┳━━━━━━━━━━━━━━━━━━━━━━━━┳━━━━━━━━━━━━━━━┓\n",
       "┃\u001b[1m \u001b[0m\u001b[1mLayer (type)                   \u001b[0m\u001b[1m \u001b[0m┃\u001b[1m \u001b[0m\u001b[1mOutput Shape          \u001b[0m\u001b[1m \u001b[0m┃\u001b[1m \u001b[0m\u001b[1m      Param #\u001b[0m\u001b[1m \u001b[0m┃\n",
       "┡━━━━━━━━━━━━━━━━━━━━━━━━━━━━━━━━━╇━━━━━━━━━━━━━━━━━━━━━━━━╇━━━━━━━━━━━━━━━┩\n",
       "│ embedding (\u001b[38;5;33mEmbedding\u001b[0m)           │ (\u001b[38;5;45mNone\u001b[0m, \u001b[38;5;34m76\u001b[0m, \u001b[38;5;34m128\u001b[0m)        │       \u001b[38;5;34m948,992\u001b[0m │\n",
       "├─────────────────────────────────┼────────────────────────┼───────────────┤\n",
       "│ bidirectional_19                │ (\u001b[38;5;45mNone\u001b[0m, \u001b[38;5;34m64\u001b[0m)             │        \u001b[38;5;34m10,304\u001b[0m │\n",
       "│ (\u001b[38;5;33mBidirectional\u001b[0m)                 │                        │               │\n",
       "├─────────────────────────────────┼────────────────────────┼───────────────┤\n",
       "│ dense_97 (\u001b[38;5;33mDense\u001b[0m)                │ (\u001b[38;5;45mNone\u001b[0m, \u001b[38;5;34m32\u001b[0m)             │         \u001b[38;5;34m2,080\u001b[0m │\n",
       "├─────────────────────────────────┼────────────────────────┼───────────────┤\n",
       "│ dropout_12 (\u001b[38;5;33mDropout\u001b[0m)            │ (\u001b[38;5;45mNone\u001b[0m, \u001b[38;5;34m32\u001b[0m)             │             \u001b[38;5;34m0\u001b[0m │\n",
       "├─────────────────────────────────┼────────────────────────┼───────────────┤\n",
       "│ dense_98 (\u001b[38;5;33mDense\u001b[0m)                │ (\u001b[38;5;45mNone\u001b[0m, \u001b[38;5;34m1\u001b[0m)              │            \u001b[38;5;34m33\u001b[0m │\n",
       "└─────────────────────────────────┴────────────────────────┴───────────────┘\n"
      ]
     },
     "metadata": {},
     "output_type": "display_data"
    },
    {
     "data": {
      "text/html": [
       "<pre style=\"white-space:pre;overflow-x:auto;line-height:normal;font-family:Menlo,'DejaVu Sans Mono',consolas,'Courier New',monospace\"><span style=\"font-weight: bold\"> Total params: </span><span style=\"color: #00af00; text-decoration-color: #00af00\">2,884,228</span> (11.00 MB)\n",
       "</pre>\n"
      ],
      "text/plain": [
       "\u001b[1m Total params: \u001b[0m\u001b[38;5;34m2,884,228\u001b[0m (11.00 MB)\n"
      ]
     },
     "metadata": {},
     "output_type": "display_data"
    },
    {
     "data": {
      "text/html": [
       "<pre style=\"white-space:pre;overflow-x:auto;line-height:normal;font-family:Menlo,'DejaVu Sans Mono',consolas,'Courier New',monospace\"><span style=\"font-weight: bold\"> Trainable params: </span><span style=\"color: #00af00; text-decoration-color: #00af00\">961,409</span> (3.67 MB)\n",
       "</pre>\n"
      ],
      "text/plain": [
       "\u001b[1m Trainable params: \u001b[0m\u001b[38;5;34m961,409\u001b[0m (3.67 MB)\n"
      ]
     },
     "metadata": {},
     "output_type": "display_data"
    },
    {
     "data": {
      "text/html": [
       "<pre style=\"white-space:pre;overflow-x:auto;line-height:normal;font-family:Menlo,'DejaVu Sans Mono',consolas,'Courier New',monospace\"><span style=\"font-weight: bold\"> Non-trainable params: </span><span style=\"color: #00af00; text-decoration-color: #00af00\">0</span> (0.00 B)\n",
       "</pre>\n"
      ],
      "text/plain": [
       "\u001b[1m Non-trainable params: \u001b[0m\u001b[38;5;34m0\u001b[0m (0.00 B)\n"
      ]
     },
     "metadata": {},
     "output_type": "display_data"
    },
    {
     "data": {
      "text/html": [
       "<pre style=\"white-space:pre;overflow-x:auto;line-height:normal;font-family:Menlo,'DejaVu Sans Mono',consolas,'Courier New',monospace\"><span style=\"font-weight: bold\"> Optimizer params: </span><span style=\"color: #00af00; text-decoration-color: #00af00\">1,922,819</span> (7.33 MB)\n",
       "</pre>\n"
      ],
      "text/plain": [
       "\u001b[1m Optimizer params: \u001b[0m\u001b[38;5;34m1,922,819\u001b[0m (7.33 MB)\n"
      ]
     },
     "metadata": {},
     "output_type": "display_data"
    }
   ],
   "source": [
    "model_rnn.summary()"
   ]
  },
  {
   "cell_type": "code",
   "execution_count": 292,
   "metadata": {},
   "outputs": [
    {
     "name": "stdout",
     "output_type": "stream",
     "text": [
      "\u001b[1m18/18\u001b[0m \u001b[32m━━━━━━━━━━━━━━━━━━━━\u001b[0m\u001b[37m\u001b[0m \u001b[1m1s\u001b[0m 18ms/step\n"
     ]
    },
    {
     "data": {
      "image/png": "[encoded data removed]",
      "text/plain": [
       "<Figure size 640x480 with 2 Axes>"
      ]
     },
     "metadata": {},
     "output_type": "display_data"
    },
    {
     "name": "stdout",
     "output_type": "stream",
     "text": [
      "              precision    recall  f1-score   support\n",
      "\n",
      "           0       0.86      1.00      0.93       478\n",
      "           1       0.00      0.00      0.00        75\n",
      "\n",
      "    accuracy                           0.86       553\n",
      "   macro avg       0.43      0.50      0.46       553\n",
      "weighted avg       0.75      0.86      0.80       553\n",
      "\n"
     ]
    },
    {
     "name": "stderr",
     "output_type": "stream",
     "text": [
      "c:\\Users\\DELL\\Documents\\Formation_Jedha\\Project\\AT-T_spam_detector\\.venv\\Lib\\site-packages\\sklearn\\metrics\\_classification.py:1565: UndefinedMetricWarning:\n",
      "\n",
      "Precision is ill-defined and being set to 0.0 in labels with no predicted samples. Use `zero_division` parameter to control this behavior.\n",
      "\n",
      "c:\\Users\\DELL\\Documents\\Formation_Jedha\\Project\\AT-T_spam_detector\\.venv\\Lib\\site-packages\\sklearn\\metrics\\_classification.py:1565: UndefinedMetricWarning:\n",
      "\n",
      "Precision is ill-defined and being set to 0.0 in labels with no predicted samples. Use `zero_division` parameter to control this behavior.\n",
      "\n",
      "c:\\Users\\DELL\\Documents\\Formation_Jedha\\Project\\AT-T_spam_detector\\.venv\\Lib\\site-packages\\sklearn\\metrics\\_classification.py:1565: UndefinedMetricWarning:\n",
      "\n",
      "Precision is ill-defined and being set to 0.0 in labels with no predicted samples. Use `zero_division` parameter to control this behavior.\n",
      "\n"
     ]
    }
   ],
   "source": [
    "# Evaluate the Model\n",
    "predictions = model_rnn.predict(x_test)\n",
    "y_pred = np.argmax(predictions, axis=1)\n",
    "\n",
    "cm = confusion_matrix(y_test, y_pred)\n",
    "disp = ConfusionMatrixDisplay(confusion_matrix=cm, display_labels=[\"Ham\", \"Spam\"])\n",
    "disp.plot(cmap=plt.cm.Blues)\n",
    "plt.title(\"Confusion Matrix\")\n",
    "plt.show()\n",
    "\n",
    "print(classification_report(y_test, y_pred))"
   ]
  },
  {
   "cell_type": "code",
   "execution_count": 293,
   "metadata": {},
   "outputs": [
    {
     "data": {
      "image/png": "[encoded data removed]",
      "text/plain": [
       "<Figure size 640x480 with 1 Axes>"
      ]
     },
     "metadata": {},
     "output_type": "display_data"
    }
   ],
   "source": [
    "plt.plot(history_rnn.history[\"loss\"], color=\"b\", label='Train loss')\n",
    "plt.plot(history_rnn.history[\"val_loss\"], color=\"r\", label='Val loss')\n",
    "plt.ylabel(\"loss\")\n",
    "plt.xlabel(\"Epochs\")\n",
    "plt.legend()\n",
    "plt.show()"
   ]
  },
  {
   "cell_type": "code",
   "execution_count": 294,
   "metadata": {},
   "outputs": [
    {
     "data": {
      "image/png": "[encoded data removed]",
      "text/plain": [
       "<Figure size 640x480 with 1 Axes>"
      ]
     },
     "metadata": {},
     "output_type": "display_data"
    }
   ],
   "source": [
    "plt.plot(history_rnn.history[\"binary_accuracy\"], color=\"b\", label='Train accuracy')\n",
    "plt.plot(history_rnn.history[\"val_binary_accuracy\"], color=\"r\", label='Val accuracy')\n",
    "plt.ylabel(\"binary_accuracy\")\n",
    "plt.xlabel(\"Epochs\")\n",
    "plt.legend()\n",
    "plt.show()"
   ]
  }
 ],
 "metadata": {
  "kernelspec": {
   "display_name": ".venv",
   "language": "python",
   "name": "python3"
  },
  "language_info": {
   "codemirror_mode": {
    "name": "ipython",
    "version": 3
   },
   "file_extension": ".py",
   "mimetype": "text/x-python",
   "name": "python",
   "nbconvert_exporter": "python",
   "pygments_lexer": "ipython3",
   "version": "3.12.10"
  }
 },
 "nbformat": 4,
 "nbformat_minor": 2
}
